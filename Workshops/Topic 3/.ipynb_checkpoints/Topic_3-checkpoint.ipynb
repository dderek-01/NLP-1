{
 "cells": [
  {
   "cell_type": "markdown",
   "metadata": {},
   "source": [
    "# Topic 3: Further Document Classification"
   ]
  },
  {
   "cell_type": "markdown",
   "metadata": {},
   "source": [
    "## Preliminaries \n",
    "Run this cell."
   ]
  },
  {
   "cell_type": "code",
   "execution_count": 2,
   "metadata": {
    "collapsed": true
   },
   "outputs": [],
   "source": [
    "import sys\n",
    "#sys.path.append(r'T:\\Departments\\Informatics\\LanguageEngineering') \n",
    "sys.path.append(r'/Users/warrenboult/Documents/MSC/nlp/resources/')\n",
    "import re\n",
    "import pandas as pd\n",
    "import numpy as np\n",
    "import matplotlib.pyplot as plt\n",
    "import collections\n",
    "from collections import defaultdict,Counter\n",
    "from itertools import zip_longest\n",
    "from IPython.display import display\n",
    "from random import seed\n",
    "get_ipython().magic('matplotlib inline')\n",
    "import random\n",
    "import math\n",
    "import matplotlib.pylab as pylab\n",
    "params = {'legend.fontsize': 'large',\n",
    "          'figure.figsize': (15, 5),\n",
    "         'axes.labelsize': 'large',\n",
    "         'axes.titlesize':'large',\n",
    "         'xtick.labelsize':'large',\n",
    "         'ytick.labelsize':'large'}\n",
    "pylab.rcParams.update(params)\n",
    "from pylab import rcParams\n",
    "from operator import itemgetter, attrgetter, methodcaller\n",
    "\n"
   ]
  },
  {
   "cell_type": "markdown",
   "metadata": {},
   "source": [
    "Also, run the following cell to have access to the functions we defined in the previous topic."
   ]
  },
  {
   "cell_type": "markdown",
   "metadata": {},
   "source": [
    "### Overview\n",
    "This topic builds on the activities of the previous topic on classification and sentiment analysis. You will be focussing on the Amazon review corpus with a view to investigating the following issues.\n",
    "\n",
    "- What is the impact of varying training data size? To what extent does increasing the quantity of training data improve classifier performance?\n",
    "- What is the impact of changing domain (i.e. book, dvd, electronics, kitchen). In particular, what happens if you train a classifier with reviews in one domain (or product category) and test the classifier on reviews from a different domain? Does performance degrade, and if so, by how much? Are some pairs of product categories more similar than others?\n",
    "- What is the impact on classifier accuracy of various feature extraction methods?\n",
    "\n",
    "You may need to review Python's [list comprehensions](http://docs.python.org/tutorial/datastructures.html#list-comprehensions) and [slice](http://bergbom.blogspot.co.uk/2011/04/python-slice-notation.html) notation."
   ]
  },
  {
   "cell_type": "markdown",
   "metadata": {},
   "source": [
    "## Investigating the impact of the quantity of training data\n",
    "We will begin by exploring the impact on classification accuracy of using different quantities of training data.\n",
    "\n",
    "We have assembled code from the notebook for Topic 2 in a module called classification_utils.  In the next cell, we load this module.\n",
    "\n",
    "We now measure the performance of both the word list classifier (the version that uses the 100 most frequent words in each category) and Naïve Bayes classifiers on all of the dvd reviews in the extended dvd review corpus, with 70% of the corpus being used for training and the remainder for testing.\n",
    "\n",
    "### Exercise\n",
    "Run this cell several times and observe the output. \n",
    "\n",
    "- NB: It may take a little time for the output to appear when the cell is run, so be patient!"
   ]
  },
  {
   "cell_type": "code",
   "execution_count": 3,
   "metadata": {
    "collapsed": false
   },
   "outputs": [
    {
     "name": "stdout",
     "output_type": "stream",
     "text": [
      "Sussex NLTK root directory is /Users/warrenboult/Documents/MSC/nlp/resources\n",
      "The accuracy of Word List classifer is 0.62\n",
      "The accuracy of the Naive Bayes classifier is 0.81.\n"
     ]
    },
    {
     "data": {
      "text/html": [
       "<div>\n",
       "<style scoped>\n",
       "    .dataframe tbody tr th:only-of-type {\n",
       "        vertical-align: middle;\n",
       "    }\n",
       "\n",
       "    .dataframe tbody tr th {\n",
       "        vertical-align: top;\n",
       "    }\n",
       "\n",
       "    .dataframe thead th {\n",
       "        text-align: right;\n",
       "    }\n",
       "</style>\n",
       "<table border=\"1\" class=\"dataframe\">\n",
       "  <thead>\n",
       "    <tr style=\"text-align: right;\">\n",
       "      <th></th>\n",
       "      <th>0</th>\n",
       "      <th>1</th>\n",
       "    </tr>\n",
       "  </thead>\n",
       "  <tbody>\n",
       "    <tr>\n",
       "      <th>0</th>\n",
       "      <td>Word List</td>\n",
       "      <td>0.618333</td>\n",
       "    </tr>\n",
       "    <tr>\n",
       "      <th>1</th>\n",
       "      <td>NB</td>\n",
       "      <td>0.813333</td>\n",
       "    </tr>\n",
       "  </tbody>\n",
       "</table>\n",
       "</div>"
      ],
      "text/plain": [
       "           0         1\n",
       "0  Word List  0.618333\n",
       "1         NB  0.813333"
      ]
     },
     "metadata": {},
     "output_type": "display_data"
    },
    {
     "data": {
      "text/plain": [
       "(0.5, 1.0)"
      ]
     },
     "execution_count": 3,
     "metadata": {},
     "output_type": "execute_result"
    },
    {
     "data": {
      "image/png": "[encoded data removed]",
      "text/plain": [
       "<matplotlib.figure.Figure at 0x108b69e10>"
      ]
     },
     "metadata": {},
     "output_type": "display_data"
    }
   ],
   "source": [
    "from classification_utils import *\n",
    "\n",
    "reader = AmazonReviewCorpusReader().category(\"dvd\")\n",
    "#stopwords = stopwords.words('english')\n",
    "word_list_size = 100\n",
    "pos_train,neg_train,pos_test,neg_test = get_train_test_data(reader)\n",
    "WL_accuracy = run_WL(pos_train,neg_train,pos_test,neg_test,word_list_size)\n",
    "NB_accuracy = run_NB(pos_train,neg_train,pos_test,neg_test)\n",
    "print(\"The accuracy of Word List classifer is {0:.2f}\".format(WL_accuracy))\n",
    "print(\"The accuracy of the Naive Bayes classifier is {0:.2f}.\".format(NB_accuracy))\n",
    "df = pd.DataFrame([(\"Word List\",WL_accuracy),(\"NB\",NB_accuracy)])\n",
    "display(df)\n",
    "ax = df.plot.bar(title=\"Experimental Results\",legend=False,x=0)\n",
    "ax.set_ylabel(\"Classifier Accuracy\")\n",
    "ax.set_xlabel(\"Classifier\")\n",
    "ax.set_ylim(0.5,1.0)"
   ]
  },
  {
   "cell_type": "code",
   "execution_count": 99,
   "metadata": {
    "collapsed": false
   },
   "outputs": [
    {
     "name": "stdout",
     "output_type": "stream",
     "text": [
      "<review>\n",
      "<unique_id>\n",
      "B00049QJU2:nothing_like_live_edwin:monica_\"monlink\"\n",
      "</unique_id>\n",
      "<asin>\n",
      "B00049QJU2\n",
      "</asin>\n",
      "<product_name>\n",
      "Tinsel and Tap Shoes: Live at the House of Blues: DVD: Edwin McCain\n",
      "</product_name>\n",
      "<product_type>\n",
      "dvd\n",
      "</product_type>\n",
      "<helpful>\n",
      "2 of 2\n",
      "</helpful>\n",
      "<rating>\n",
      "5.0\n",
      "</rating>\n",
      "<title>\n",
      "NOTHING LIKE LIVE EDWIN\n",
      "</title>\n",
      "<date>\n",
      "November 9, 2004\n",
      "</date>\n",
      "<reviewer>\n",
      "Monica \"monlink\"\n",
      "</reviewer>\n",
      "<reviewer_location>\n",
      "Canal Fulton, Oh\n",
      "</reviewer_location>\n",
      "<review_text>\n",
      "If you sort of like Edwin McCain, get this DVD, watch him live, and you will fall in love. He has such passion for his music that can only be seen, and felt during live performances. His amazing voice, is just as amazing live, and he and his band, can JAM!! The energy is high, and its a great time!\n",
      "I had the priviledge of meeting him, and blubbered like an idiot, but he is just as cool a guy as he seems. He really appreciates his fan base, and understands how important it is for us to see him live. Im glad that finally, I can share with my friends who have never see Edwin live, what an amazing artist he really is!!!!\n",
      "</review_text>\n",
      "<review_text_tokenised_segmented>\n",
      "If you sort of like Edwin McCain , get this DVD , watch him live , and you will fall in love .\n",
      "He has such passion for his music that can only be seen , and felt during live performances .\n",
      "His amazing voice , is just as amazing live , and he and his band , can JAM ! !\n",
      "The energy is high , and its a great time !\n",
      "I had the priviledge of meeting him , and blubbered like an idiot , but he is just as cool a guy as he seems .\n",
      "He really appreciates his fan base , and understands how important it is for us to see him live .\n",
      "Im glad that finally , I can share with my friends who have never see Edwin live , what an amazing artist he really is ! ! !\n",
      "!\n",
      "\n",
      "\n",
      "</review_text_tokenised_segmented>\n",
      "<n_sents>\n",
      "8\n",
      "</n_sents>\n",
      "<srl>\n",
      "1\tIf\tif\tif\tIN\tIN\t_\t_\t9\t9\tADV\tADV\t_\t_\t_\tAM-ADV\t_\t_\t_\n",
      "2\tyou\tyou\tyou\tPRP\tPRP\t_\t_\t3\t3\tSBJ\tSBJ\t_\t_\tA0\t_\t_\t_\t_\n",
      "3\tsort\tsort\tsort\tVBP\tVBP\t_\t_\t1\t1\tSUB\tSUB\tY\tsort.01\t_\t_\t_\t_\t_\n",
      "4\tof\tof\tof\tIN\tIN\t_\t_\t3\t3\tADV\tADV\t_\t_\tA1\t_\t_\t_\t_\n",
      "5\tlike\tlike\tlike\tIN\tIN\t_\t_\t3\t3\tMNR\tMNR\t_\t_\tAM-MNR\t_\t_\t_\t_\n",
      "6\tEdwin\tedwin\tedwin\tNNP\tNNP\t_\t_\t7\t7\tNAME\tNAME\t_\t_\t_\t_\t_\t_\t_\n",
      "7\tMcCain\tmccain\tmccain\tNNP\tNNP\t_\t_\t5\t5\tPMOD\tPMOD\t_\t_\t_\t_\t_\t_\t_\n",
      "8\t,\t,\t,\t,\t,\t_\t_\t9\t9\tP\tP\t_\t_\t_\t_\t_\t_\t_\n",
      "9\tget\tget\tget\tVB\tVB\t_\t_\t0\t0\tROOT\tROOT\tY\tget.01\t_\t_\tAM-MOD\t_\t_\n",
      "10\tthis\tthis\tthis\tDT\tDT\t_\t_\t11\t11\tNMOD\tNMOD\t_\t_\t_\t_\t_\t_\t_\n",
      "11\tDVD\tdvd\tdvd\tNNP\tNNP\t_\t_\t9\t9\tOBJ\tOBJ\t_\t_\t_\tA1\t_\t_\t_\n",
      "12\t,\t,\t,\t,\t,\t_\t_\t9\t9\tP\tP\t_\t_\t_\t_\t_\t_\t_\n",
      "13\twatch\twatch\twatch\tVB\tVB\t_\t_\t9\t9\tCOORD\tCOORD\tY\twatch.01\t_\t_\t_\t_\t_\n",
      "14\thim\thim\thim\tPRP\tPRP\t_\t_\t13\t13\tOBJ\tOBJ\t_\t_\t_\t_\tA1\tA0\t_\n",
      "15\tlive\tlive\tlive\tVB\tVB\t_\t_\t13\t13\tOPRD\tOPRD\tY\tlive.01\t_\t_\tC-A1\t_\t_\n",
      "16\t,\t,\t,\t,\t,\t_\t_\t9\t9\tP\tP\t_\t_\t_\t_\t_\t_\t_\n",
      "17\tand\tand\tand\tCC\tCC\t_\t_\t9\t9\tCOORD\tCOORD\t_\t_\t_\t_\t_\t_\t_\n",
      "18\tyou\tyou\tyou\tPRP\tPRP\t_\t_\t19\t19\tSBJ\tSBJ\t_\t_\t_\t_\t_\t_\tA1\n",
      "19\twill\twill\twill\tMD\tMD\t_\t_\t17\t17\tCONJ\tCONJ\t_\t_\t_\t_\t_\t_\tAM-MOD\n",
      "20\tfall\tfall\tfall\tVB\tVB\t_\t_\t19\t19\tVC\tVC\tY\tfall.01\t_\t_\t_\t_\t_\n",
      "21\tin\tin\tin\tIN\tIN\t_\t_\t20\t20\tADV\tADV\t_\t_\t_\t_\t_\t_\tA2\n",
      "22\tlove\tlove\tlove\tNN\tNN\t_\t_\t21\t21\tPMOD\tPMOD\t_\t_\t_\t_\t_\t_\t_\n",
      "23\t.\t.\t.\t.\t.\t_\t_\t9\t9\tP\tP\t_\t_\t_\t_\t_\t_\t_\n",
      "\n",
      "1\tHe\the\the\tPRP\tPRP\t_\t_\t2\t2\tSBJ\tSBJ\t_\t_\tA0\tA0\t_\t_\tA0\t_\n",
      "2\thas\thave\thave\tVBZ\tVBZ\t_\t_\t0\t0\tROOT\tROOT\tY\thave.03\t_\t_\t_\t_\t_\t_\n",
      "3\tsuch\tsuch\tsuch\tDT\tDT\t_\t_\t4\t4\tNMOD\tNMOD\t_\t_\t_\t_\t_\t_\t_\t_\n",
      "4\tpassion\tpassion\tpassion\tNN\tNN\t_\t_\t2\t2\tOBJ\tOBJ\tY\tpassion.01\tA1\t_\t_\tA1\t_\t_\n",
      "5\tfor\tfor\tfor\tIN\tIN\t_\t_\t4\t4\tNMOD\tNMOD\t_\t_\t_\tA1\t_\t_\t_\t_\n",
      "6\this\this\this\tPRP$\tPRP$\t_\t_\t7\t7\tNMOD\tNMOD\t_\t_\t_\t_\tA0\t_\t_\t_\n",
      "7\tmusic\tmusic\tmusic\tNN\tNN\t_\t_\t5\t5\tPMOD\tPMOD\tY\tmusic.01\t_\t_\t_\t_\t_\t_\n",
      "8\tthat\tthat\tthat\tWDT\tWDT\t_\t_\t9\t9\tSBJ\tSBJ\t_\t_\t_\t_\t_\tR-A1\t_\t_\n",
      "9\tcan\tcan\tcan\tMD\tMD\t_\t_\t4\t4\tNMOD\tNMOD\t_\t_\t_\t_\t_\tAM-MOD\t_\t_\n",
      "10\tonly\tonly\tonly\tRB\tRB\t_\t_\t9\t9\tADV\tADV\t_\t_\t_\t_\t_\tAM-ADV\t_\t_\n",
      "11\tbe\tbe\tbe\tVB\tVB\t_\t_\t9\t9\tVC\tVC\t_\t_\t_\t_\t_\t_\t_\t_\n",
      "12\tseen\tsee\tsee\tVBN\tVBN\t_\t_\t11\t11\tVC\tVC\tY\tsee.01\t_\t_\t_\t_\t_\t_\n",
      "13\t,\t,\t,\t,\t,\t_\t_\t2\t2\tP\tP\t_\t_\t_\t_\t_\t_\t_\t_\n",
      "14\tand\tand\tand\tCC\tCC\t_\t_\t2\t2\tCOORD\tCOORD\t_\t_\t_\t_\t_\t_\t_\t_\n",
      "15\tfelt\tfelt\tfelt\tVBD\tVBD\t_\t_\t14\t14\tCONJ\tCONJ\tY\tfeel.01\t_\t_\t_\t_\t_\t_\n",
      "16\tduring\tduring\tduring\tIN\tIN\t_\t_\t15\t15\tTMP\tTMP\t_\t_\t_\t_\t_\t_\tAM-TMP\t_\n",
      "17\tlive\tlive\tlive\tJJ\tJJ\t_\t_\t18\t18\tNMOD\tNMOD\t_\t_\t_\t_\t_\t_\t_\tA1\n",
      "18\tperformances\tperformance\tperformance\tNNS\tNNS\t_\t_\t16\t16\tPMOD\tPMOD\tY\tperformance.02\t_\t_\t_\t_\t_\t_\n",
      "19\t.\t.\t.\t.\t.\t_\t_\t2\t2\tP\tP\t_\t_\t_\t_\t_\t_\t_\t_\n",
      "\n",
      "1\tHis\this\this\tPRP$\tPRP$\t_\t_\t3\t3\tNMOD\tNMOD\t_\t_\tA1\t_\t_\n",
      "2\tamazing\tamazing\tamazing\tJJ\tJJ\t_\t_\t3\t3\tNMOD\tNMOD\t_\t_\t_\t_\t_\n",
      "3\tvoice\tvoice\tvoice\tNN\tNN\t_\t_\t5\t5\tSBJ\tSBJ\tY\tvoice.01\tA2\t_\t_\n",
      "4\t,\t,\t,\t,\t,\t_\t_\t3\t3\tP\tP\t_\t_\t_\t_\t_\n",
      "5\tis\tbe\tbe\tVBZ\tVBZ\t_\t_\t0\t0\tROOT\tROOT\t_\t_\t_\t_\t_\n",
      "6\tjust\tjust\tjust\tRB\tRB\t_\t_\t7\t7\tDEP\tDEP\t_\t_\t_\t_\t_\n",
      "7\tas\tas\tas\tIN\tIN\t_\t_\t5\t5\tADV\tADV\t_\t_\t_\t_\t_\n",
      "8\tamazing\tamazing\tamazing\tJJ\tJJ\t_\t_\t9\t9\tNMOD\tNMOD\t_\t_\t_\t_\t_\n",
      "9\tlive\tlive\tlive\tVBP\tVBP\t_\t_\t7\t7\tSUB\tSUB\tY\tlive.01\t_\t_\t_\n",
      "10\t,\t,\t,\t,\t,\t_\t_\t5\t5\tP\tP\t_\t_\t_\t_\t_\n",
      "11\tand\tand\tand\tCC\tCC\t_\t_\t5\t5\tCOORD\tCOORD\t_\t_\t_\t_\t_\n",
      "12\the\the\the\tPRP\tPRP\t_\t_\t17\t17\tSBJ\tSBJ\t_\t_\t_\t_\t_\n",
      "13\tand\tand\tand\tCC\tCC\t_\t_\t12\t12\tCOORD\tCOORD\t_\t_\t_\t_\t_\n",
      "14\this\this\this\tPRP$\tPRP$\t_\t_\t15\t15\tNMOD\tNMOD\t_\t_\t_\t_\tA1\n",
      "15\tband\tband\tband\tNN\tNN\t_\t_\t13\t13\tCONJ\tCONJ\tY\tband.01\t_\t_\t_\n",
      "16\t,\t,\t,\t,\t,\t_\t_\t17\t17\tP\tP\t_\t_\t_\t_\t_\n",
      "17\tcan\tcan\tcan\tMD\tMD\t_\t_\t11\t11\tCONJ\tCONJ\t_\t_\t_\t_\t_\n",
      "18\tJAM\tjam\tjam\tNNP\tNNP\t_\t_\t17\t17\tSBJ\tSBJ\t_\t_\t_\t_\t_\n",
      "19\t!\t!\t!\t.\t.\t_\t_\t17\t17\tP\tP\t_\t_\t_\t_\t_\n",
      "20\t!\t!\t!\t.\t.\t_\t_\t5\t5\tP\tP\t_\t_\t_\t_\t_\n",
      "\n",
      "1\tThe\tthe\tthe\tDT\tDT\t_\t_\t2\t2\tNMOD\tNMOD\t_\t_\t_\n",
      "2\tenergy\tenergy\tenergy\tNN\tNN\t_\t_\t3\t3\tSBJ\tSBJ\t_\t_\t_\n",
      "3\tis\tbe\tbe\tVBZ\tVBZ\t_\t_\t0\t0\tROOT\tROOT\t_\t_\t_\n",
      "4\thigh\thigh\thigh\tJJ\tJJ\t_\t_\t3\t3\tADV\tADV\t_\t_\t_\n",
      "5\t,\t,\t,\t,\t,\t_\t_\t3\t3\tP\tP\t_\t_\t_\n",
      "6\tand\tand\tand\tCC\tCC\t_\t_\t3\t3\tCOORD\tCOORD\t_\t_\t_\n",
      "7\tits\tits\tits\tPRP$\tPRP$\t_\t_\t10\t10\tNMOD\tNMOD\t_\t_\tA0\n",
      "8\ta\ta\ta\tDT\tDT\t_\t_\t10\t10\tNMOD\tNMOD\t_\t_\t_\n",
      "9\tgreat\tgreat\tgreat\tJJ\tJJ\t_\t_\t10\t10\tNMOD\tNMOD\t_\t_\t_\n",
      "10\ttime\ttime\ttime\tNN\tNN\t_\t_\t6\t6\tCONJ\tCONJ\tY\ttime.01\t_\n",
      "11\t!\t!\t!\t.\t.\t_\t_\t3\t3\tP\tP\t_\t_\t_\n",
      "\n",
      "1\tI\ti\ti\tPRP\tPRP\t_\t_\t2\t2\tSBJ\tSBJ\t_\t_\tA0\tA0\t_\tA0\t_\t_\n",
      "2\thad\thave\thave\tVBD\tVBD\t_\t_\t0\t0\tROOT\tROOT\tY\thave.03\t_\t_\t_\t_\t_\t_\n",
      "3\tthe\tthe\tthe\tDT\tDT\t_\t_\t4\t4\tNMOD\tNMOD\t_\t_\t_\t_\t_\t_\t_\t_\n",
      "4\tpriviledge\tpriviledge\tpriviledge\tNN\tNN\t_\t_\t2\t2\tOBJ\tOBJ\tY\tpriviledge.01\tA1\t_\t_\t_\t_\t_\n",
      "5\tof\tof\tof\tIN\tIN\t_\t_\t4\t4\tNMOD\tNMOD\t_\t_\t_\tA1\t_\t_\t_\t_\n",
      "6\tmeeting\tmeet\tmeet\tVBG\tVBG\t_\t_\t5\t5\tPMOD\tPMOD\tY\tmeet.01\t_\t_\t_\t_\t_\t_\n",
      "7\thim\thim\thim\tPRP\tPRP\t_\t_\t6\t6\tOBJ\tOBJ\t_\t_\t_\t_\tA1\t_\t_\t_\n",
      "8\t,\t,\t,\t,\t,\t_\t_\t2\t2\tP\tP\t_\t_\t_\t_\t_\t_\t_\t_\n",
      "9\tand\tand\tand\tCC\tCC\t_\t_\t2\t2\tCOORD\tCOORD\t_\t_\t_\t_\t_\t_\t_\t_\n",
      "10\tblubbered\tblubber\tblubber\tVBD\tVBD\t_\t_\t9\t9\tCONJ\tCONJ\tY\tblubber.01\t_\t_\t_\t_\t_\t_\n",
      "11\tlike\tlike\tlike\tIN\tIN\t_\t_\t10\t10\tADV\tADV\t_\t_\t_\t_\t_\tAM-MNR\t_\t_\n",
      "12\tan\tan\tan\tDT\tDT\t_\t_\t13\t13\tNMOD\tNMOD\t_\t_\t_\t_\t_\t_\t_\t_\n",
      "13\tidiot\tidiot\tidiot\tNN\tNN\t_\t_\t11\t11\tPMOD\tPMOD\t_\t_\t_\t_\t_\t_\t_\t_\n",
      "14\t,\t,\t,\t,\t,\t_\t_\t10\t10\tP\tP\t_\t_\t_\t_\t_\t_\t_\t_\n",
      "15\tbut\tbut\tbut\tCC\tCC\t_\t_\t10\t10\tCOORD\tCOORD\t_\t_\t_\t_\t_\t_\t_\t_\n",
      "16\the\the\the\tPRP\tPRP\t_\t_\t17\t17\tSBJ\tSBJ\t_\t_\t_\t_\t_\t_\t_\t_\n",
      "17\tis\tbe\tbe\tVBZ\tVBZ\t_\t_\t15\t15\tCONJ\tCONJ\t_\t_\t_\t_\t_\t_\t_\t_\n",
      "18\tjust\tjust\tjust\tRB\tRB\t_\t_\t17\t17\tADV\tADV\t_\t_\t_\t_\t_\t_\t_\t_\n",
      "19\tas\tas\tas\tIN\tIN\t_\t_\t18\t18\tAMOD\tAMOD\t_\t_\t_\t_\t_\t_\t_\t_\n",
      "20\tcool\tcool\tcool\tVB\tVB\t_\t_\t19\t19\tSUB\tSUB\tY\tcool.01\t_\t_\t_\t_\t_\t_\n",
      "21\ta\ta\ta\tDT\tDT\t_\t_\t22\t22\tNMOD\tNMOD\t_\t_\t_\t_\t_\t_\t_\t_\n",
      "22\tguy\tguy\tguy\tNN\tNN\t_\t_\t20\t20\tOBJ\tOBJ\t_\t_\t_\t_\t_\t_\tA1\t_\n",
      "23\tas\tas\tas\tIN\tIN\t_\t_\t18\t18\tAMOD\tAMOD\t_\t_\t_\t_\t_\t_\t_\t_\n",
      "24\the\the\the\tPRP\tPRP\t_\t_\t25\t25\tSBJ\tSBJ\t_\t_\t_\t_\t_\t_\t_\tA1\n",
      "25\tseems\tseem\tseem\tVBZ\tVBZ\t_\t_\t23\t23\tSUB\tSUB\tY\tseem.01\t_\t_\t_\t_\t_\t_\n",
      "26\t.\t.\t.\t.\t.\t_\t_\t2\t2\tP\tP\t_\t_\t_\t_\t_\t_\t_\t_\n",
      "\n",
      "1\tHe\the\the\tPRP\tPRP\t_\t_\t3\t3\tSBJ\tSBJ\t_\t_\tA0\t_\tA0\t_\t_\n",
      "2\treally\treally\treally\tRB\tRB\t_\t_\t3\t3\tADV\tADV\t_\t_\tAM-ADV\t_\t_\t_\t_\n",
      "3\tappreciates\tappreciate\tappreciate\tVBZ\tVBZ\t_\t_\t0\t0\tROOT\tROOT\tY\tappreciate.02\t_\t_\t_\t_\t_\n",
      "4\this\this\this\tPRP$\tPRP$\t_\t_\t6\t6\tNMOD\tNMOD\t_\t_\t_\tA1\t_\t_\t_\n",
      "5\tfan\tfan\tfan\tNN\tNN\t_\t_\t6\t6\tNMOD\tNMOD\t_\t_\t_\tA1\t_\t_\t_\n",
      "6\tbase\tbase\tbase\tNN\tNN\t_\t_\t3\t3\tOBJ\tOBJ\tY\tbase.03\tA1\tA2\t_\t_\t_\n",
      "7\t,\t,\t,\t,\t,\t_\t_\t3\t3\tP\tP\t_\t_\t_\t_\t_\t_\t_\n",
      "8\tand\tand\tand\tCC\tCC\t_\t_\t3\t3\tCOORD\tCOORD\t_\t_\t_\t_\t_\t_\t_\n",
      "9\tunderstands\tunderstand\tunderstand\tVBZ\tVBZ\t_\t_\t8\t8\tCONJ\tCONJ\tY\tunderstand.01\t_\t_\t_\t_\t_\n",
      "10\thow\thow\thow\tWRB\tWRB\t_\t_\t13\t13\tPRD\tPRD\t_\t_\t_\t_\t_\t_\t_\n",
      "11\timportant\timportant\timportant\tJJ\tJJ\t_\t_\t10\t10\tAMOD\tAMOD\t_\t_\t_\t_\t_\t_\t_\n",
      "12\tit\tit\tit\tPRP\tPRP\t_\t_\t13\t13\tSBJ\tSBJ\t_\t_\t_\t_\t_\t_\t_\n",
      "13\tis\tbe\tbe\tVBZ\tVBZ\t_\t_\t9\t9\tOBJ\tOBJ\t_\t_\t_\t_\tA1\t_\t_\n",
      "14\tfor\tfor\tfor\tIN\tIN\t_\t_\t13\t13\tEXTR\tEXTR\t_\t_\t_\t_\t_\t_\t_\n",
      "15\tus\tus\tus\tPRP\tPRP\t_\t_\t16\t16\tSBJ\tSBJ\t_\t_\t_\t_\t_\tA0\t_\n",
      "16\tto\tto\tto\tTO\tTO\t_\t_\t14\t14\tSUB\tSUB\t_\t_\t_\t_\t_\t_\t_\n",
      "17\tsee\tsee\tsee\tVB\tVB\t_\t_\t16\t16\tIM\tIM\tY\tsee.01\t_\t_\t_\t_\t_\n",
      "18\thim\thim\thim\tPRP\tPRP\t_\t_\t17\t17\tOBJ\tOBJ\t_\t_\t_\t_\t_\tA1\tA0\n",
      "19\tlive\tlive\tlive\tVB\tVB\t_\t_\t17\t17\tOPRD\tOPRD\tY\tlive.01\t_\t_\t_\tC-A1\t_\n",
      "20\t.\t.\t.\t.\t.\t_\t_\t3\t3\tP\tP\t_\t_\t_\t_\t_\t_\t_\n",
      "\n",
      "1\tIm\tim\tim\tNNP\tNNP\t_\t_\t2\t2\tSBJ\tSBJ\t_\t_\tA0\t_\t_\t_\t_\n",
      "2\tglad\tglad\tglad\tVBD\tVBD\t_\t_\t0\t0\tROOT\tROOT\tY\tglad.01\t_\t_\t_\t_\t_\n",
      "3\tthat\tthat\tthat\tIN\tIN\t_\t_\t2\t2\tOBJ\tOBJ\t_\t_\tA1\t_\t_\t_\t_\n",
      "4\tfinally\tfinally\tfinally\tRB\tRB\t_\t_\t7\t7\tADV\tADV\t_\t_\t_\tAM-TMP\t_\t_\t_\n",
      "5\t,\t,\t,\t,\t,\t_\t_\t7\t7\tP\tP\t_\t_\t_\t_\t_\t_\t_\n",
      "6\tI\ti\ti\tPRP\tPRP\t_\t_\t7\t7\tSBJ\tSBJ\t_\t_\t_\tA0\t_\t_\t_\n",
      "7\tcan\tcan\tcan\tMD\tMD\t_\t_\t3\t3\tSUB\tSUB\t_\t_\t_\tAM-MOD\t_\t_\t_\n",
      "8\tshare\tshare\tshare\tVB\tVB\t_\t_\t7\t7\tVC\tVC\tY\tshare.01\t_\t_\t_\t_\t_\n",
      "9\twith\twith\twith\tIN\tIN\t_\t_\t8\t8\tADV\tADV\t_\t_\t_\tA2\t_\t_\t_\n",
      "10\tmy\tmy\tmy\tPRP$\tPRP$\t_\t_\t11\t11\tNMOD\tNMOD\t_\t_\t_\t_\tA1\t_\t_\n",
      "11\tfriends\tfriend\tfriend\tNNS\tNNS\t_\t_\t9\t9\tPMOD\tPMOD\tY\tfriend.01\t_\t_\tA0\tA0\t_\n",
      "12\twho\twho\twho\tWP\tWP\t_\t_\t13\t13\tSBJ\tSBJ\t_\t_\t_\t_\t_\tR-A0\t_\n",
      "13\thave\thave\thave\tVBP\tVBP\t_\t_\t11\t11\tNMOD\tNMOD\t_\t_\t_\t_\t_\tAM-MOD\t_\n",
      "14\tnever\tnever\tnever\tRB\tRB\t_\t_\t13\t13\tTMP\tTMP\t_\t_\t_\t_\t_\tAM-TMP\t_\n",
      "15\tsee\tsee\tsee\tVB\tVB\t_\t_\t13\t13\tVC\tVC\tY\tsee.01\t_\t_\t_\t_\t_\n",
      "16\tEdwin\tedwin\tedwin\tNNP\tNNP\t_\t_\t15\t15\tOBJ\tOBJ\t_\t_\t_\t_\t_\tA1\tA0\n",
      "17\tlive\tlive\tlive\tVB\tVB\t_\t_\t15\t15\tOPRD\tOPRD\tY\tlive.01\t_\t_\t_\tC-A1\t_\n",
      "18\t,\t,\t,\t,\t,\t_\t_\t17\t17\tP\tP\t_\t_\t_\t_\t_\t_\t_\n",
      "19\twhat\twhat\twhat\tWP\tWP\t_\t_\t25\t25\tOBJ\tOBJ\t_\t_\t_\t_\t_\t_\t_\n",
      "20\tan\tan\tan\tDT\tDT\t_\t_\t22\t22\tNMOD\tNMOD\t_\t_\t_\t_\t_\t_\t_\n",
      "21\tamazing\tamazing\tamazing\tJJ\tJJ\t_\t_\t22\t22\tNMOD\tNMOD\t_\t_\t_\t_\t_\t_\t_\n",
      "22\tartist\tartist\tartist\tNN\tNN\t_\t_\t17\t17\tOBJ\tOBJ\t_\t_\t_\t_\t_\t_\tA1\n",
      "23\the\the\the\tPRP\tPRP\t_\t_\t25\t25\tSBJ\tSBJ\t_\t_\t_\t_\t_\t_\t_\n",
      "24\treally\treally\treally\tRB\tRB\t_\t_\t25\t25\tADV\tADV\t_\t_\t_\t_\t_\t_\t_\n",
      "25\tis\tbe\tbe\tVBZ\tVBZ\t_\t_\t22\t22\tNMOD\tNMOD\t_\t_\t_\t_\t_\t_\t_\n",
      "26\t!\t!\t!\t.\t.\t_\t_\t25\t25\tP\tP\t_\t_\t_\t_\t_\t_\t_\n",
      "27\t!\t!\t!\t.\t.\t_\t_\t17\t17\tP\tP\t_\t_\t_\t_\t_\t_\t_\n",
      "28\t!\t!\t!\t.\t.\t_\t_\t2\t2\tP\tP\t_\t_\t_\t_\t_\t_\t_\n",
      "\n",
      "1\t!\t!\t!\t.\t.\t_\t_\t0\t0\tROOT\tROOT\t_\t_\n",
      "</srl>\n",
      "</review>\n",
      "\n"
     ]
    }
   ],
   "source": [
    "# sub_pos_test,sub_neg_test\n",
    "print(pos_test[20])"
   ]
  },
  {
   "cell_type": "markdown",
   "metadata": {},
   "source": [
    "As you can see, the classifiers have different accuracies on different runs. \n",
    "\n",
    "### Exercise\n",
    "Copy the cell above and move the copy to be positioned below this cell. Then adapt the code so that the accuracy reported for each classifier is the average across multiple runs."
   ]
  },
  {
   "cell_type": "code",
   "execution_count": null,
   "metadata": {
    "collapsed": false
   },
   "outputs": [],
   "source": [
    "from classification_utils import *\n",
    "\n",
    "reader = AmazonReviewCorpusReader().category(\"dvd\")\n",
    "#stopwords = stopwords.words('english')\n",
    "word_list_size = 100\n",
    "av_WL_accuracy = 0\n",
    "av_NB_accuracy = 0\n",
    "for i in range(10):\n",
    "    pos_train,neg_train,pos_test,neg_test = get_train_test_data(reader)\n",
    "    av_WL_accuracy += run_WL(pos_train,neg_train,pos_test,neg_test,word_list_size)\n",
    "    av_NB_accuracy += run_NB(pos_train,neg_train,pos_test,neg_test)\n",
    "av_WL_accuracy = av_WL_accuracy / 10\n",
    "av_NB_accuracy = av_NB_accuracy / 10\n",
    "print(\"The average accuracy of Word List classifer is {0:.2f}\".format(av_WL_accuracy))\n",
    "print(\"The average accuracy of the Naive Bayes classifier is {0:.2f}.\".format(av_NB_accuracy))\n",
    "df = pd.DataFrame([(\"Word List\",av_WL_accuracy),(\"NB\",av_NB_accuracy)])\n",
    "display(df)\n",
    "ax = df.plot.bar(title=\"Experimental Results\",legend=False,x=0)\n",
    "ax.set_ylabel(\"Classifier Accuracy\")\n",
    "ax.set_xlabel(\"Classifier\")\n",
    "ax.set_ylim(0.5,1.0)"
   ]
  },
  {
   "cell_type": "code",
   "execution_count": null,
   "metadata": {
    "collapsed": true
   },
   "outputs": [],
   "source": [
    "# %load solutions/average_performance\n",
    "from classification_utils import * \n",
    "\n",
    "dvd_reader = AmazonReviewCorpusReader().category(\"dvd\")\n",
    "word_list_size = 100\n",
    "repetitions = 5 # accuracy figures are averaged over this many repetitions\n",
    "WL_accuracy_tot = 0\n",
    "NB_accuracy_tot = 0\n",
    "for i in range(repetitions): # for each sample_size we will find average accuracy over several repetitions\n",
    "    pos_train,neg_train,pos_test,neg_test = get_train_test_data(dvd_reader)\n",
    "    WL_accuracy_tot += run_WL(pos_train,neg_train,pos_test,neg_test,word_list_size)\n",
    "    NB_accuracy_tot += run_NB(pos_train,neg_train,pos_test,neg_test)\n",
    "WL_accuracy = WL_accuracy_tot/repetitions\n",
    "NB_accuracy = NB_accuracy_tot/repetitions\n",
    "df = pd.DataFrame([(\"Word List\",WL_accuracy),(\"NB\",NB_accuracy)])\n",
    "display(df)\n",
    "ax = df.plot.bar(title=\"Experimental Results\",legend=False,x=0)\n",
    "ax.set_ylabel(\"Classifier Accuracy\")\n",
    "ax.set_xlabel(\"Classifier\")\n",
    "ax.set_ylim(0.5,1.0)\n"
   ]
  },
  {
   "cell_type": "markdown",
   "metadata": {},
   "source": [
    "### Exercise\n",
    "\n",
    "The next step involves measuring the performance of both the word list and Naïve Bayes classifiers on a range of subsets of the dvd reviews in the extended dvd review corpus.\n",
    "\n",
    "- The full data set has 1000 positive and 1000 negative reviews. \n",
    "- The function `get_train_test_data` selects 30% of the total data for testing, which means that we have up to 700 positive and 700 negative reviews to sample from.\n",
    "- Consider the following sample sizes: 1, 10, 50, 100, 200, 400, 600 and 700.\n",
    "- NB: the sample size is not the total number of reviews for training, but the number of positive reviews (which is also equal to the number of negative reviews).\n",
    "\n",
    "#### Core Exercise\n",
    "Copy the code cell that you created for the last exercise, and place the copy below this cell. Then adapt the code to determine the accuracy of each classifier on each subsets.\n",
    "\n",
    "You should make use the `sample` function from the random module, which means you should include the line: \n",
    "\n",
    "`from random import sample`\n",
    "\n",
    "- Reminder: to select, say, 50 of the positive training items, call `sample(pos_train, 50)`, and so on.\n",
    "\n",
    "- Make sure that you are selecting samples that have an equal number of positive and negative reviews.\n",
    "\n",
    "For each sample size chosen, your code should at least print out:\n",
    "\n",
    "Sample size, WL_accuracy, NB_accuracy.\n",
    "\n",
    "If you want to display the data in as more sophisticate way, then do the following stretch exercise, too.\n",
    "\n",
    "#### Stretch Exercise\n",
    "\n",
    "Use a Pandas dataframe to display the results in a table.\n",
    "- The table should have three columns:\n",
    " - the first for the sample sizes, \n",
    " - the second for the Word List classifier accuracies, and \n",
    " - the third for the Naïve Bayes classifier accuracies.\n",
    "- There are examples of this in the model solutions to exercises in Topic 1 that you can adapt.\n",
    "- You can use `pd.set_option('precision',2)` to limit the reals to have 2 digits after the decimal point.\n",
    "- Create a dataframe like this:\n",
    "```\n",
    "pd.DataFrame(list(zip(<column 1 list>, <column 2 list>, ...)),\n",
    "                  columns=<a list of the column headings)\n",
    "```"
   ]
  },
  {
   "cell_type": "code",
   "execution_count": null,
   "metadata": {
    "collapsed": false
   },
   "outputs": [],
   "source": [
    "from classification_utils import *\n",
    "from random import sample\n",
    "\n",
    "reader = AmazonReviewCorpusReader().category(\"dvd\")\n",
    "#stopwords = stopwords.words('english')\n",
    "word_list_size = 100\n",
    "\n",
    "sample_sizes = [1,10,50,100,200,400,600,700]\n",
    "WL_accuracies = []\n",
    "NB_accuracies = []\n",
    "for s in sample_sizes:\n",
    "    av_WL_accuracy = 0\n",
    "    av_NB_accuracy = 0\n",
    "    for i in range(10):\n",
    "        pos_train,neg_train,pos_test,neg_test = get_train_test_data(reader)\n",
    "        sub_pos_train = sample(pos_train, s)\n",
    "        sub_neg_train = sample(neg_train, s)\n",
    "        av_WL_accuracy += run_WL(sub_pos_train,sub_neg_train,pos_test,neg_test,word_list_size)\n",
    "        av_NB_accuracy += run_NB(sub_pos_train,sub_neg_train,pos_test,neg_test)\n",
    "    av_WL_accuracy = av_WL_accuracy / 10\n",
    "    av_Nb_accuracy = av_NB_accuracy / 10\n",
    "    WL_accuracies.append(av_WL_accuracy)\n",
    "    NB_accuracies.append(av_NB_accuracy)\n",
    "    print(\"The average accuracy of Word List classifer for subset size {} is {0:.2f}\".format(s,av_WL_accuracy))\n",
    "    print(\"The average accuracy of the Naive Bayes classifier for subset size {} is {0:.2f}.\".format(s,av_NB_accuracy))\n",
    "pd.set_option('precision',2)\n",
    "df = pd.DataFrame(list(zip(sample_sizes,WL_accuracies,NB_accuracies)),\n",
    "                  columns=[\"Sample Sizes\",\"WL\",\"NB\"])\n",
    "display(df)\n",
    "ax = df.plot.bar(title=\"Experimental Results\",legend=False,x=0)\n",
    "ax.set_ylabel(\"Classifier Accuracy\")\n",
    "ax.set_xlabel(\"Classifier\")\n",
    "ax.set_ylim(0.5,1.0)"
   ]
  },
  {
   "cell_type": "code",
   "execution_count": 8,
   "metadata": {
    "collapsed": false,
    "scrolled": true
   },
   "outputs": [
    {
     "data": {
      "text/html": [
       "<div>\n",
       "<style scoped>\n",
       "    .dataframe tbody tr th:only-of-type {\n",
       "        vertical-align: middle;\n",
       "    }\n",
       "\n",
       "    .dataframe tbody tr th {\n",
       "        vertical-align: top;\n",
       "    }\n",
       "\n",
       "    .dataframe thead th {\n",
       "        text-align: right;\n",
       "    }\n",
       "</style>\n",
       "<table border=\"1\" class=\"dataframe\">\n",
       "  <thead>\n",
       "    <tr style=\"text-align: right;\">\n",
       "      <th></th>\n",
       "      <th>Sample size</th>\n",
       "      <th>WL accuracy</th>\n",
       "      <th>NB accuracy</th>\n",
       "    </tr>\n",
       "  </thead>\n",
       "  <tbody>\n",
       "    <tr>\n",
       "      <th>0</th>\n",
       "      <td>1</td>\n",
       "      <td>0.48</td>\n",
       "      <td>0.53</td>\n",
       "    </tr>\n",
       "    <tr>\n",
       "      <th>1</th>\n",
       "      <td>10</td>\n",
       "      <td>0.59</td>\n",
       "      <td>0.60</td>\n",
       "    </tr>\n",
       "    <tr>\n",
       "      <th>2</th>\n",
       "      <td>50</td>\n",
       "      <td>0.55</td>\n",
       "      <td>0.59</td>\n",
       "    </tr>\n",
       "    <tr>\n",
       "      <th>3</th>\n",
       "      <td>100</td>\n",
       "      <td>0.60</td>\n",
       "      <td>0.68</td>\n",
       "    </tr>\n",
       "    <tr>\n",
       "      <th>4</th>\n",
       "      <td>200</td>\n",
       "      <td>0.60</td>\n",
       "      <td>0.74</td>\n",
       "    </tr>\n",
       "    <tr>\n",
       "      <th>5</th>\n",
       "      <td>400</td>\n",
       "      <td>0.62</td>\n",
       "      <td>0.78</td>\n",
       "    </tr>\n",
       "    <tr>\n",
       "      <th>6</th>\n",
       "      <td>600</td>\n",
       "      <td>0.62</td>\n",
       "      <td>0.79</td>\n",
       "    </tr>\n",
       "    <tr>\n",
       "      <th>7</th>\n",
       "      <td>700</td>\n",
       "      <td>0.61</td>\n",
       "      <td>0.78</td>\n",
       "    </tr>\n",
       "  </tbody>\n",
       "</table>\n",
       "</div>"
      ],
      "text/plain": [
       "   Sample size  WL accuracy  NB accuracy\n",
       "0            1         0.48         0.53\n",
       "1           10         0.59         0.60\n",
       "2           50         0.55         0.59\n",
       "3          100         0.60         0.68\n",
       "4          200         0.60         0.74\n",
       "5          400         0.62         0.78\n",
       "6          600         0.62         0.79\n",
       "7          700         0.61         0.78"
      ]
     },
     "metadata": {},
     "output_type": "display_data"
    },
    {
     "data": {
      "text/plain": [
       "(0.4, 1.0)"
      ]
     },
     "execution_count": 8,
     "metadata": {},
     "output_type": "execute_result"
    },
    {
     "data": {
      "image/png": "[encoded data removed]",
      "text/plain": [
       "<matplotlib.figure.Figure at 0x107ce1278>"
      ]
     },
     "metadata": {},
     "output_type": "display_data"
    }
   ],
   "source": [
    "# %load solutions/different_sample_sizes\n",
    "from classification_utils import *\n",
    "\n",
    "reader = AmazonReviewCorpusReader().category(\"dvd\")\n",
    "word_list_size = 100\n",
    "repetitions = 1 # accuracy figures are averaged over this many repetitions\n",
    "sample_sizes = [1,10,50,100,200,400,600,700] #sample_size = number of the positive reviews =  number of negative reviews\n",
    "WL_accuracies=[]\n",
    "NB_accuracies=[]\n",
    "for size in sample_sizes:\n",
    "    WL_accuracy_tot = 0\n",
    "    NB_accuracy_tot = 0\n",
    "    for i in range(repetitions): # for each sample_size we will find average accuracy over several repetitions\n",
    "        pos_train,neg_train,pos_test,neg_test = get_train_test_data(reader)\n",
    "        pos_train_sample = sample(pos_train, size) \n",
    "        neg_train_sample = sample(neg_train, size) \n",
    "        WL_accuracy_tot += run_WL(pos_train_sample,neg_train_sample,pos_test,neg_test,word_list_size)\n",
    "        NB_accuracy_tot += run_NB(pos_train_sample,neg_train_sample,pos_test,neg_test)\n",
    "    WL_accuracies.append(WL_accuracy_tot/repetitions)\n",
    "    NB_accuracies.append(NB_accuracy_tot/repetitions)\n",
    "\n",
    "pd.set_option('precision',2)\n",
    "df = pd.DataFrame(list(zip(sample_sizes, WL_accuracies, NB_accuracies)),\n",
    "                  columns=[\"Sample size\",\"WL accuracy\",\"NB accuracy\"])    \n",
    "display(df)\n",
    "ax = df.plot(title=\"Experimental Results\",x=0)\n",
    "ax.set_ylabel(\"Classifier Accuracy\")\n",
    "ax.set_ylim(0.4,1.0)\n"
   ]
  },
  {
   "cell_type": "markdown",
   "metadata": {},
   "source": [
    "### Exercise\n",
    "\n",
    "Make a copy of the cell you created for the previous exercise and move it to be positioned below this cell. Using the new cell, adapt the code so that it evaluates the performance of both the word list and Naive Bayes classifiers for different sample sizes on each each of the different available product categories.\n",
    "\n",
    "- The available categories are `'dvd'`, `'book'`, `'kitchen'` and `'electronics'`.\n",
    "\n",
    "Get your code to print out the results as it runs, or alternatively, use pandas dataframes to tabulate and display the results for each category in turn.\n",
    "\n",
    "NB: You are now iterating over categories, samples and repetitions. This can take a while! With 8 sample sizes, and averaging performance over 5 repetitions, for e.g., you may find it takes around a minute to compute results for each category. You may want to reduce the number of repetitions to 1 to speed things up and check that your code is working OK.\n",
    "\n"
   ]
  },
  {
   "cell_type": "code",
   "execution_count": 7,
   "metadata": {
    "collapsed": false
   },
   "outputs": [
    {
     "ename": "ValueError",
     "evalue": "math domain error",
     "output_type": "error",
     "traceback": [
      "\u001b[0;31m---------------------------------------------------------------------------\u001b[0m",
      "\u001b[0;31mValueError\u001b[0m                                Traceback (most recent call last)",
      "\u001b[0;32m<ipython-input-7-4a61d4e9ea98>\u001b[0m in \u001b[0;36m<module>\u001b[0;34m()\u001b[0m\n\u001b[1;32m     23\u001b[0m             \u001b[0msub_neg_train\u001b[0m \u001b[0;34m=\u001b[0m \u001b[0msample\u001b[0m\u001b[0;34m(\u001b[0m\u001b[0mneg_train\u001b[0m\u001b[0;34m,\u001b[0m \u001b[0ms\u001b[0m\u001b[0;34m)\u001b[0m\u001b[0;34m\u001b[0m\u001b[0m\n\u001b[1;32m     24\u001b[0m             \u001b[0mav_WL_accuracy\u001b[0m \u001b[0;34m+=\u001b[0m \u001b[0mrun_WL\u001b[0m\u001b[0;34m(\u001b[0m\u001b[0msub_pos_train\u001b[0m\u001b[0;34m,\u001b[0m\u001b[0msub_neg_train\u001b[0m\u001b[0;34m,\u001b[0m\u001b[0mpos_test\u001b[0m\u001b[0;34m,\u001b[0m\u001b[0mneg_test\u001b[0m\u001b[0;34m,\u001b[0m\u001b[0mword_list_size\u001b[0m\u001b[0;34m)\u001b[0m\u001b[0;34m\u001b[0m\u001b[0m\n\u001b[0;32m---> 25\u001b[0;31m             \u001b[0mav_NB_accuracy\u001b[0m \u001b[0;34m+=\u001b[0m \u001b[0mrun_NB\u001b[0m\u001b[0;34m(\u001b[0m\u001b[0msub_pos_train\u001b[0m\u001b[0;34m,\u001b[0m\u001b[0msub_neg_train\u001b[0m\u001b[0;34m,\u001b[0m\u001b[0mpos_test\u001b[0m\u001b[0;34m,\u001b[0m\u001b[0mneg_test\u001b[0m\u001b[0;34m)\u001b[0m\u001b[0;34m\u001b[0m\u001b[0m\n\u001b[0m\u001b[1;32m     26\u001b[0m         \u001b[0mWL_accuracies\u001b[0m\u001b[0;34m.\u001b[0m\u001b[0mappend\u001b[0m\u001b[0;34m(\u001b[0m\u001b[0mav_WL_accuracy\u001b[0m \u001b[0;34m/\u001b[0m \u001b[0mrepetitions\u001b[0m\u001b[0;34m)\u001b[0m\u001b[0;34m\u001b[0m\u001b[0m\n\u001b[1;32m     27\u001b[0m         \u001b[0mNB_accuracies\u001b[0m\u001b[0;34m.\u001b[0m\u001b[0mappend\u001b[0m\u001b[0;34m(\u001b[0m\u001b[0mav_NB_accuracy\u001b[0m \u001b[0;34m/\u001b[0m \u001b[0mrepetitions\u001b[0m\u001b[0;34m)\u001b[0m\u001b[0;34m\u001b[0m\u001b[0m\n",
      "\u001b[0;32m~/Documents/MSC/nlp/resources/classification_utils.py\u001b[0m in \u001b[0;36mrun_NB\u001b[0;34m(pos_train, neg_train, pos_test, neg_test)\u001b[0m\n\u001b[1;32m    173\u001b[0m     \u001b[0mc_probs\u001b[0m \u001b[0;34m=\u001b[0m \u001b[0mcond_probs\u001b[0m\u001b[0;34m(\u001b[0m\u001b[0mformatted_train\u001b[0m\u001b[0;34m)\u001b[0m\u001b[0;34m\u001b[0m\u001b[0m\n\u001b[1;32m    174\u001b[0m     \u001b[0mknown_vocab\u001b[0m \u001b[0;34m=\u001b[0m \u001b[0mknown_vocabulary\u001b[0m\u001b[0;34m(\u001b[0m\u001b[0mformatted_train\u001b[0m\u001b[0;34m)\u001b[0m\u001b[0;34m\u001b[0m\u001b[0m\n\u001b[0;32m--> 175\u001b[0;31m     \u001b[0;32mreturn\u001b[0m \u001b[0mNB_evaluate\u001b[0m\u001b[0;34m(\u001b[0m\u001b[0mformatted_test\u001b[0m\u001b[0;34m,\u001b[0m\u001b[0mc_priors\u001b[0m\u001b[0;34m,\u001b[0m\u001b[0mc_probs\u001b[0m\u001b[0;34m,\u001b[0m\u001b[0mknown_vocab\u001b[0m\u001b[0;34m)\u001b[0m\u001b[0;34m\u001b[0m\u001b[0m\n\u001b[0m\u001b[1;32m    176\u001b[0m \u001b[0;34m\u001b[0m\u001b[0m\n\u001b[1;32m    177\u001b[0m \u001b[0;32mdef\u001b[0m \u001b[0mrun_NB_preformatted\u001b[0m\u001b[0;34m(\u001b[0m\u001b[0mtrain\u001b[0m\u001b[0;34m,\u001b[0m\u001b[0mtest\u001b[0m\u001b[0;34m)\u001b[0m\u001b[0;34m:\u001b[0m\u001b[0;34m\u001b[0m\u001b[0m\n",
      "\u001b[0;32m~/Documents/MSC/nlp/resources/classification_utils.py\u001b[0m in \u001b[0;36mNB_evaluate\u001b[0;34m(test_data, priors, c_probs, known_vocab)\u001b[0m\n\u001b[1;32m    149\u001b[0m     \u001b[0mnum_correct\u001b[0m \u001b[0;34m=\u001b[0m \u001b[0;36m0\u001b[0m\u001b[0;34m\u001b[0m\u001b[0m\n\u001b[1;32m    150\u001b[0m     \u001b[0;32mfor\u001b[0m \u001b[0mdoc\u001b[0m\u001b[0;34m,\u001b[0m\u001b[0mc\u001b[0m \u001b[0;32min\u001b[0m \u001b[0mtest_data\u001b[0m\u001b[0;34m:\u001b[0m\u001b[0;34m\u001b[0m\u001b[0m\n\u001b[0;32m--> 151\u001b[0;31m         \u001b[0mpredicted_class\u001b[0m \u001b[0;34m=\u001b[0m \u001b[0mclassify\u001b[0m\u001b[0;34m(\u001b[0m\u001b[0mdoc\u001b[0m\u001b[0;34m,\u001b[0m\u001b[0mpriors\u001b[0m\u001b[0;34m,\u001b[0m\u001b[0mc_probs\u001b[0m\u001b[0;34m,\u001b[0m\u001b[0mknown_vocab\u001b[0m\u001b[0;34m)\u001b[0m\u001b[0;34m\u001b[0m\u001b[0m\n\u001b[0m\u001b[1;32m    152\u001b[0m         \u001b[0;32mif\u001b[0m \u001b[0mpredicted_class\u001b[0m \u001b[0;34m==\u001b[0m \u001b[0mc\u001b[0m\u001b[0;34m:\u001b[0m\u001b[0;34m\u001b[0m\u001b[0m\n\u001b[1;32m    153\u001b[0m             \u001b[0mnum_correct\u001b[0m \u001b[0;34m+=\u001b[0m \u001b[0;36m1\u001b[0m\u001b[0;34m\u001b[0m\u001b[0m\n",
      "\u001b[0;32m~/Documents/MSC/nlp/resources/classification_utils.py\u001b[0m in \u001b[0;36mclassify\u001b[0;34m(doc, priors, c_probs, known_vocab)\u001b[0m\n\u001b[1;32m    142\u001b[0m         \u001b[0;32mfor\u001b[0m \u001b[0mword\u001b[0m \u001b[0;32min\u001b[0m \u001b[0mdoc\u001b[0m\u001b[0;34m:\u001b[0m\u001b[0;34m\u001b[0m\u001b[0m\n\u001b[1;32m    143\u001b[0m             \u001b[0;32mif\u001b[0m \u001b[0mword\u001b[0m \u001b[0;32min\u001b[0m \u001b[0mknown_vocab\u001b[0m\u001b[0;34m:\u001b[0m\u001b[0;34m\u001b[0m\u001b[0m\n\u001b[0;32m--> 144\u001b[0;31m                 \u001b[0mclass_scores\u001b[0m\u001b[0;34m[\u001b[0m\u001b[0mc\u001b[0m\u001b[0;34m]\u001b[0m \u001b[0;34m+=\u001b[0m \u001b[0mmath\u001b[0m\u001b[0;34m.\u001b[0m\u001b[0mlog\u001b[0m\u001b[0;34m(\u001b[0m\u001b[0mc_probs\u001b[0m\u001b[0;34m[\u001b[0m\u001b[0mc\u001b[0m\u001b[0;34m]\u001b[0m\u001b[0;34m[\u001b[0m\u001b[0mword\u001b[0m\u001b[0;34m]\u001b[0m\u001b[0;34m)\u001b[0m\u001b[0;34m\u001b[0m\u001b[0m\n\u001b[0m\u001b[1;32m    145\u001b[0m     \u001b[0mbest_score\u001b[0m \u001b[0;34m=\u001b[0m \u001b[0mmax\u001b[0m\u001b[0;34m(\u001b[0m\u001b[0mclass_scores\u001b[0m\u001b[0;34m.\u001b[0m\u001b[0mvalues\u001b[0m\u001b[0;34m(\u001b[0m\u001b[0;34m)\u001b[0m\u001b[0;34m)\u001b[0m\u001b[0;34m\u001b[0m\u001b[0m\n\u001b[1;32m    146\u001b[0m     \u001b[0;32mreturn\u001b[0m \u001b[0mrandom\u001b[0m\u001b[0;34m.\u001b[0m\u001b[0mchoice\u001b[0m\u001b[0;34m(\u001b[0m\u001b[0;34m[\u001b[0m\u001b[0mc\u001b[0m \u001b[0;32mfor\u001b[0m \u001b[0mc\u001b[0m \u001b[0;32min\u001b[0m \u001b[0mclass_scores\u001b[0m\u001b[0;34m.\u001b[0m\u001b[0mkeys\u001b[0m\u001b[0;34m(\u001b[0m\u001b[0;34m)\u001b[0m \u001b[0;32mif\u001b[0m \u001b[0mclass_scores\u001b[0m\u001b[0;34m[\u001b[0m\u001b[0mc\u001b[0m\u001b[0;34m]\u001b[0m\u001b[0;34m==\u001b[0m \u001b[0mbest_score\u001b[0m\u001b[0;34m]\u001b[0m\u001b[0;34m)\u001b[0m\u001b[0;34m\u001b[0m\u001b[0m\n",
      "\u001b[0;31mValueError\u001b[0m: math domain error"
     ]
    }
   ],
   "source": [
    "from classification_utils import *\n",
    "from random import sample\n",
    "import itertools\n",
    "from itertools import product\n",
    "\n",
    "categories = [\"dvd\",\"book\",\"kitchen\",\"electronics\"]\n",
    "# reader = AmazonReviewCorpusReader().category(\"dvd\")\n",
    "#stopwords = stopwords.words('english')\n",
    "word_list_size = 100\n",
    "repetitions = 1\n",
    "\n",
    "sample_sizes = [1,10,50,100,200,400,600,700]\n",
    "WL_accuracies = []\n",
    "NB_accuracies = []\n",
    "for c in categories:\n",
    "    reader = AmazonReviewCorpusReader().category(c)\n",
    "    for s in sample_sizes:\n",
    "        av_WL_accuracy = 0\n",
    "        av_NB_accuracy = 0\n",
    "        for i in range(repetitions):\n",
    "            pos_train,neg_train,pos_test,neg_test = get_train_test_data(reader)\n",
    "            sub_pos_train = sample(pos_train, s)\n",
    "            sub_neg_train = sample(neg_train, s)\n",
    "            av_WL_accuracy += run_WL(sub_pos_train,sub_neg_train,pos_test,neg_test,word_list_size)\n",
    "            av_NB_accuracy += run_NB(sub_pos_train,sub_neg_train,pos_test,neg_test)\n",
    "        WL_accuracies.append(av_WL_accuracy / repetitions)\n",
    "        NB_accuracies.append(av_NB_accuracy / repetitions)\n",
    "#         print(\"The average accuracy of Word List classifer for subset size {} is {0:.2f}\".format(s,av_WL_accuracy))\n",
    "#         print(\"The average accuracy of the Naive Bayes classifier for subset size {} is {0:.2f}.\".format(s,av_NB_accuracy))\n",
    "pd.set_option('precision',2)\n",
    "# df = pd.DataFrame(list(zip(sample_sizes,WL_accuracies,NB_accuracies)),\n",
    "#                   columns=[\"Sample Sizes\",\"WL\",\"NB\"])\n",
    "# TODO: Build data frame, based upon https://pandas.pydata.org/pandas-docs/stable/advanced.html\n",
    "index = list(product(categories,sample_sizes))\n",
    "df = pd.DataFrame(np.array([WL_accuracies,NB_accuracies]),index=['WL','NB'],columns=index)\n",
    "display(df)\n",
    "ax = df.plot(title=\"Experimental Results\",legend=False)\n",
    "ax.set_ylabel(\"Classifier Accuracy\")\n",
    "ax.set_xlabel(\"Classifier\")\n",
    "ax.set_ylim(0.5,1.0)"
   ]
  },
  {
   "cell_type": "code",
   "execution_count": 4,
   "metadata": {
    "collapsed": false,
    "scrolled": true
   },
   "outputs": [
    {
     "data": {
      "image/png": "[encoded data removed]",
      "text/plain": [
       "<matplotlib.figure.Figure at 0x109a1db00>"
      ]
     },
     "metadata": {},
     "output_type": "display_data"
    },
    {
     "data": {
      "image/png": "[encoded data removed]",
      "text/plain": [
       "<matplotlib.figure.Figure at 0x108db8a20>"
      ]
     },
     "metadata": {},
     "output_type": "display_data"
    },
    {
     "data": {
      "image/png": "[encoded data removed]",
      "text/plain": [
       "<matplotlib.figure.Figure at 0x10a6df5f8>"
      ]
     },
     "metadata": {},
     "output_type": "display_data"
    },
    {
     "data": {
      "image/png": "[encoded data removed]",
      "text/plain": [
       "<matplotlib.figure.Figure at 0x10992ac18>"
      ]
     },
     "metadata": {},
     "output_type": "display_data"
    }
   ],
   "source": [
    "# %load solutions/different_categories\n",
    "from classification_utils import *\n",
    "\n",
    "categories = ([\"book\",\"dvd\",\"kitchen\",\"electronics\"])\n",
    "for cat in categories:\n",
    "    reader = AmazonReviewCorpusReader().category(cat)\n",
    "    word_list_size = 100\n",
    "    repetitions = 5 # accuracy figures are averaged over this many repetitions\n",
    "    sample_sizes = [1,10,50,100,200,400,600,700] #sample_size = number of the positive reviews =  number of negative reviews\n",
    "    WL_accuracies=[]\n",
    "    NB_accuracies=[]\n",
    "    for size in sample_sizes:\n",
    "        WL_accuracy_tot = 0\n",
    "        NB_accuracy_tot = 0\n",
    "        for i in range(repetitions): # for each sample_size we will find average accuracy over several repetitions\n",
    "            pos_train,neg_train,pos_test,neg_test = get_train_test_data(reader)\n",
    "            pos_train_sample = sample(pos_train, size) \n",
    "            neg_train_sample = sample(neg_train, size) \n",
    "            WL_accuracy_tot += run_WL(pos_train_sample,neg_train_sample,pos_test,neg_test,word_list_size)\n",
    "            NB_accuracy_tot += run_NB(pos_train_sample,neg_train_sample,pos_test,neg_test)\n",
    "        WL_accuracies.append(WL_accuracy_tot/repetitions)\n",
    "        NB_accuracies.append(NB_accuracy_tot/repetitions)\n",
    "    pd.set_option('precision',2)\n",
    "    df = pd.DataFrame(list(zip(sample_sizes, WL_accuracies, NB_accuracies)),\n",
    "                      columns=[\"Sample size\",\"WL accuracy\",\"NB accuracy\"])\n",
    "    ax = df.plot(title=\"Results for category {}\".format(cat),x=0)\n",
    "    ax.set_ylabel(\"Classifier Accuracy\")\n",
    "    ax.set_ylim(0.4,1.0)\n"
   ]
  },
  {
   "cell_type": "markdown",
   "metadata": {},
   "source": [
    "## Cross-domain sentiment analysis\n",
    "We now consider the extent to which the performance of a Naïve Bayes classifier is degraded due to differences between the data it is trained on and the data that it is tested on. \n",
    "\n",
    "For example, suppose we train a classifier on book reviews and then test that classifier on a collection of dvd reviews. Does it perform as well as it would when trained on dvd reviews?\n",
    "\n",
    "We will refer to the domain or product category that the classifier is trained on as the **source domain** and the domain or product category that the classifier is tested on as the **target domain**. You will be experimenting with different combinations of source and target domains."
   ]
  },
  {
   "cell_type": "markdown",
   "metadata": {},
   "source": [
    "There are 4 product categories so there are 16 different ways in which these can be combined to create training and testing datasets.\n",
    "\n",
    "### Exercise\n",
    "In the empty cell below, write code that determines the accuracy of the Naïve Bayes classifier for each of these 16 combinations.\n",
    "\n",
    "- Ideally, the accuracies that you report should be averaged over multiple runs (as we saw above). However, since there are 16 combinations to consider, in order to avoid overly long running times, you do not need to run the classifier more than once for each combination.\n",
    "\n",
    "- You should get your code to print out the accuracy of each combination as it is running, in the form: <Training Data>, <Test Data>, <Accuracy>. For e.g.\n",
    "\n",
    "dvd    kitchen    0.57\n",
    "\n",
    "As before, use a pandas dataframe if you want to display the results as a table, etc.\n",
    "\n",
    "Now that we are just running the Naïve Bayes classifier, it makes sense to format the data before passing it to our `run_NB` function. \n",
    "\n",
    "We having included in `classification_util.py` a variant of `get_train_test_data` called `get_formatted_train_test_data` that is defined as follows:\n",
    "\n",
    "```\n",
    "def get_formatted_train_test_data(category, feature_extractor=None, split=0.7):\n",
    "    '''\n",
    "    Helper function. Splits data evenly across positive and negative, and then formats it\n",
    "    ready for naive bayes. You can also optionally pass in your custom feature extractor \n",
    "    (see next section), and a custom split ratio.\n",
    "    '''\n",
    "    arcr = AmazonReviewCorpusReader()\n",
    "    pos_train, pos_test = split_data(arcr.positive().category(category).documents(), split)\n",
    "    neg_train, neg_test = split_data(arcr.negative().category(category).documents(), split)\n",
    "    train = format_data(pos_train, \"pos\", feature_extractor) + format_data(neg_train, \"neg\", feature_extractor)\n",
    "    test  = format_data(pos_test, \"pos\", feature_extractor) + format_data(neg_test, \"neg\", feature_extractor)\n",
    "    return test, train\n",
    "```\n",
    "\n",
    "This means that we also have a variant of `run_NB` called `run_NB_preformatted` which is defined as follows:\n",
    "\n",
    "```\n",
    "def run_NB_preformatted(train,test):\n",
    "    c_priors = class_priors(train)\n",
    "    c_probs = cond_probs(train)\n",
    "    known_vocab = known_vocabulary(train)\n",
    "    return NB_evaluate(test,c_priors,c_probs,known_vocab)\n",
    "```\n",
    "\n",
    "#### Stretch Exercise\n",
    "\n",
    "If you have got your code to print results out as it runs, you may want to adapt your code to use a pandas dataframe to report the results in a table with three columns:\n",
    "\n",
    " - the first column is the source category,\n",
    " - the second column is the target category, and\n",
    " - the third column is the accuracy for the corresponing source and target categories.\n",
    "\n",
    "So each row of the table gives the accuracy for one of the combinations.\n",
    "\n",
    " - There should, therefore, be 16 rows."
   ]
  },
  {
   "cell_type": "code",
   "execution_count": 35,
   "metadata": {
    "collapsed": false,
    "scrolled": false
   },
   "outputs": [
    {
     "data": {
      "text/html": [
       "<div>\n",
       "<style scoped>\n",
       "    .dataframe tbody tr th:only-of-type {\n",
       "        vertical-align: middle;\n",
       "    }\n",
       "\n",
       "    .dataframe tbody tr th {\n",
       "        vertical-align: top;\n",
       "    }\n",
       "\n",
       "    .dataframe thead th {\n",
       "        text-align: right;\n",
       "    }\n",
       "</style>\n",
       "<table border=\"1\" class=\"dataframe\">\n",
       "  <thead>\n",
       "    <tr style=\"text-align: right;\">\n",
       "      <th></th>\n",
       "      <th>Source</th>\n",
       "      <th>Target</th>\n",
       "      <th>Accuracy</th>\n",
       "    </tr>\n",
       "  </thead>\n",
       "  <tbody>\n",
       "    <tr>\n",
       "      <th>0</th>\n",
       "      <td>dvd</td>\n",
       "      <td>dvd</td>\n",
       "      <td>0.78</td>\n",
       "    </tr>\n",
       "    <tr>\n",
       "      <th>1</th>\n",
       "      <td>dvd</td>\n",
       "      <td>book</td>\n",
       "      <td>0.74</td>\n",
       "    </tr>\n",
       "    <tr>\n",
       "      <th>2</th>\n",
       "      <td>dvd</td>\n",
       "      <td>kitchen</td>\n",
       "      <td>0.71</td>\n",
       "    </tr>\n",
       "    <tr>\n",
       "      <th>3</th>\n",
       "      <td>dvd</td>\n",
       "      <td>electronics</td>\n",
       "      <td>0.68</td>\n",
       "    </tr>\n",
       "    <tr>\n",
       "      <th>4</th>\n",
       "      <td>book</td>\n",
       "      <td>dvd</td>\n",
       "      <td>0.75</td>\n",
       "    </tr>\n",
       "    <tr>\n",
       "      <th>5</th>\n",
       "      <td>book</td>\n",
       "      <td>book</td>\n",
       "      <td>0.78</td>\n",
       "    </tr>\n",
       "    <tr>\n",
       "      <th>6</th>\n",
       "      <td>book</td>\n",
       "      <td>kitchen</td>\n",
       "      <td>0.63</td>\n",
       "    </tr>\n",
       "    <tr>\n",
       "      <th>7</th>\n",
       "      <td>book</td>\n",
       "      <td>electronics</td>\n",
       "      <td>0.62</td>\n",
       "    </tr>\n",
       "    <tr>\n",
       "      <th>8</th>\n",
       "      <td>kitchen</td>\n",
       "      <td>dvd</td>\n",
       "      <td>0.69</td>\n",
       "    </tr>\n",
       "    <tr>\n",
       "      <th>9</th>\n",
       "      <td>kitchen</td>\n",
       "      <td>book</td>\n",
       "      <td>0.69</td>\n",
       "    </tr>\n",
       "    <tr>\n",
       "      <th>10</th>\n",
       "      <td>kitchen</td>\n",
       "      <td>kitchen</td>\n",
       "      <td>0.83</td>\n",
       "    </tr>\n",
       "    <tr>\n",
       "      <th>11</th>\n",
       "      <td>kitchen</td>\n",
       "      <td>electronics</td>\n",
       "      <td>0.78</td>\n",
       "    </tr>\n",
       "    <tr>\n",
       "      <th>12</th>\n",
       "      <td>electronics</td>\n",
       "      <td>dvd</td>\n",
       "      <td>0.66</td>\n",
       "    </tr>\n",
       "    <tr>\n",
       "      <th>13</th>\n",
       "      <td>electronics</td>\n",
       "      <td>book</td>\n",
       "      <td>0.68</td>\n",
       "    </tr>\n",
       "    <tr>\n",
       "      <th>14</th>\n",
       "      <td>electronics</td>\n",
       "      <td>kitchen</td>\n",
       "      <td>0.79</td>\n",
       "    </tr>\n",
       "    <tr>\n",
       "      <th>15</th>\n",
       "      <td>electronics</td>\n",
       "      <td>electronics</td>\n",
       "      <td>0.83</td>\n",
       "    </tr>\n",
       "  </tbody>\n",
       "</table>\n",
       "</div>"
      ],
      "text/plain": [
       "         Source       Target  Accuracy\n",
       "0           dvd          dvd      0.78\n",
       "1           dvd         book      0.74\n",
       "2           dvd      kitchen      0.71\n",
       "3           dvd  electronics      0.68\n",
       "4          book          dvd      0.75\n",
       "5          book         book      0.78\n",
       "6          book      kitchen      0.63\n",
       "7          book  electronics      0.62\n",
       "8       kitchen          dvd      0.69\n",
       "9       kitchen         book      0.69\n",
       "10      kitchen      kitchen      0.83\n",
       "11      kitchen  electronics      0.78\n",
       "12  electronics          dvd      0.66\n",
       "13  electronics         book      0.68\n",
       "14  electronics      kitchen      0.79\n",
       "15  electronics  electronics      0.83"
      ]
     },
     "metadata": {},
     "output_type": "display_data"
    },
    {
     "data": {
      "text/plain": [
       "(0.5, 1.0)"
      ]
     },
     "execution_count": 35,
     "metadata": {},
     "output_type": "execute_result"
    },
    {
     "data": {
      "image/png": "[encoded data removed]",
      "text/plain": [
       "<matplotlib.figure.Figure at 0x10f0c9470>"
      ]
     },
     "metadata": {},
     "output_type": "display_data"
    }
   ],
   "source": [
    "from classification_utils import *\n",
    "from random import sample\n",
    "import itertools\n",
    "from itertools import product\n",
    "\n",
    "categories = [\"dvd\",\"book\",\"kitchen\",\"electronics\"]\n",
    "# reader = AmazonReviewCorpusReader().category(\"dvd\")\n",
    "#stopwords = stopwords.words('english')\n",
    "repetitions = 1\n",
    "\n",
    "dvd_test, dvd_train = get_formatted_train_test_data(\"dvd\")\n",
    "book_test, book_train = get_formatted_train_test_data(\"book\")\n",
    "kitchen_test, kitchen_train = get_formatted_train_test_data(\"kitchen\")\n",
    "electronics_test, electronics_train = get_formatted_train_test_data(\"electronics\")\n",
    "sources = {\n",
    "    \"dvd\": dvd_train,\n",
    "    \"book\": book_train,\n",
    "    \"kitchen\": kitchen_train,\n",
    "    \"electronics\": electronics_train\n",
    "}\n",
    "targets = {\n",
    "    \"dvd\": dvd_test,\n",
    "    \"book\": book_test,\n",
    "    \"kitchen\": kitchen_test,\n",
    "    \"electronics\": electronics_test\n",
    "}\n",
    "\n",
    "NB_accuracies = []\n",
    "for c in sources.keys():\n",
    "    for c2 in targets.keys():\n",
    "        av_NB_accuracy = 0\n",
    "        for i in range(repetitions):\n",
    "            av_NB_accuracy += run_NB_preformatted(sources[c],targets[c2])\n",
    "        NB_accuracies.append((c,c2,av_NB_accuracy / repetitions))\n",
    "#         print(\"The average accuracy of the Naive Bayes classifier for subset size {} is {0:.2f}.\".format(s,av_NB_accuracy))\n",
    "pd.set_option('precision',2)\n",
    "index = list(product(categories,categories))\n",
    "df = pd.DataFrame(NB_accuracies,columns=[\"Source\",\"Target\",\"Accuracy\"])\n",
    "display(df)\n",
    "ax = df.set_index([\"Source\",\"Target\"]).plot.bar(title=\"Experimental Results\",legend=False)\n",
    "ax.set_ylabel(\"Classifier Accuracy\")\n",
    "ax.set_xlabel(\"(Source cat,Target cat)\")\n",
    "ax.set_ylim(0.5,1.0)"
   ]
  },
  {
   "cell_type": "code",
   "execution_count": 54,
   "metadata": {
    "collapsed": false
   },
   "outputs": [
    {
     "name": "stdout",
     "output_type": "stream",
     "text": [
      "I was just gon na watch the film because think RObert De Niro is one of Greatest Actors Ever , but then takes on a behind scenes Being Black & that truly adds another factor to this film.it 's trip out\n",
      "\n",
      "\n",
      "\n",
      "If you are planning to become a landlord , buy this essential book before purchase rental property or hang that `` For Rent sign in front of your house . A healthy dose legal reality will counterbalance any easy money ideas may have and help decide whether the work risk involved being is how would like make The concepts learn even influence which properties maintain them already keep at finger tips information well organized find for quick reference Legal presented plain language illustrated with scenarios showing might play out real life authors dry topics as interesting possible Add urgency knowing misstep could land on wrong side lawsuit yourself eagerly turning these pages\n"
     ]
    }
   ],
   "source": [
    "print(\" \".join(dvd_train[20][0].keys()))\n",
    "print('\\n\\n')\n",
    "print(\" \".join(book_train[20][0].keys()))"
   ]
  },
  {
   "cell_type": "code",
   "execution_count": null,
   "metadata": {
    "collapsed": false
   },
   "outputs": [],
   "source": [
    "# %load solutions/crossing_domains"
   ]
  },
  {
   "cell_type": "markdown",
   "metadata": {},
   "source": [
    "### Exercise\n",
    "Make a copy of the cell that contains your solution to the previous exercise and position the copy below this cell.\n",
    "\n",
    "Adapt the code so that you explore the use of training sets built from multiple categories. For example, you might consider the following:\n",
    "\n",
    "```\n",
    "source = dvd_train + book_train + kitchen_train\n",
    "target = electronics_test\n",
    "\n",
    "source = dvd_train + book_train + kitchen_train + electronics_train\n",
    "target = electronics_test\n",
    "```\n",
    "\n",
    "One thing to bear in mind when considering the impact of using multiple product categories is the extent to which improvements are due to an increase in the quanty of training data."
   ]
  },
  {
   "cell_type": "code",
   "execution_count": null,
   "metadata": {
    "collapsed": true
   },
   "outputs": [],
   "source": [
    "# uncomment the next line and then run the cell to load a solution\n",
    "#%load solutions/multi_category_source"
   ]
  },
  {
   "cell_type": "markdown",
   "metadata": {},
   "source": [
    "## Going Further: Exploring Feature Extraction\n",
    "\n",
    "If you have completed the exercises to this point, then you may want to explore what happens when you change the features of the data used to train the Naive Bayes classifier.\n",
    "\n",
    "So far, the Naïve Bayes classifiers you've been training have been using all of the tokens in a review as features. You will now be exploring whether it is possible to improve classification accuracy by extracting different features from the reviews."
   ]
  },
  {
   "cell_type": "markdown",
   "metadata": {},
   "source": [
    "### Exercise\n",
    "First, establish the accuracy of the Naïve Bayes classifier on the each of the product categories.\n",
    "\n",
    "To do this, simply run the following cell. This code creates a dictionary `baseline`  that stores the accuracy for each product category. You can use this dictionary later when considering the impact of various feature extractors.\n",
    "\n",
    "Be patient! The code may take a little time to run and produce output!"
   ]
  },
  {
   "cell_type": "code",
   "execution_count": 41,
   "metadata": {
    "collapsed": false
   },
   "outputs": [
    {
     "data": {
      "text/html": [
       "<div>\n",
       "<style scoped>\n",
       "    .dataframe tbody tr th:only-of-type {\n",
       "        vertical-align: middle;\n",
       "    }\n",
       "\n",
       "    .dataframe tbody tr th {\n",
       "        vertical-align: top;\n",
       "    }\n",
       "\n",
       "    .dataframe thead th {\n",
       "        text-align: right;\n",
       "    }\n",
       "</style>\n",
       "<table border=\"1\" class=\"dataframe\">\n",
       "  <thead>\n",
       "    <tr style=\"text-align: right;\">\n",
       "      <th></th>\n",
       "      <th>0</th>\n",
       "    </tr>\n",
       "  </thead>\n",
       "  <tbody>\n",
       "    <tr>\n",
       "      <th>book</th>\n",
       "      <td>0.80</td>\n",
       "    </tr>\n",
       "    <tr>\n",
       "      <th>dvd</th>\n",
       "      <td>0.79</td>\n",
       "    </tr>\n",
       "    <tr>\n",
       "      <th>kitchen</th>\n",
       "      <td>0.82</td>\n",
       "    </tr>\n",
       "    <tr>\n",
       "      <th>electronics</th>\n",
       "      <td>0.81</td>\n",
       "    </tr>\n",
       "  </tbody>\n",
       "</table>\n",
       "</div>"
      ],
      "text/plain": [
       "                0\n",
       "book         0.80\n",
       "dvd          0.79\n",
       "kitchen      0.82\n",
       "electronics  0.81"
      ]
     },
     "metadata": {},
     "output_type": "display_data"
    },
    {
     "data": {
      "text/plain": [
       "(0.5, 1.0)"
      ]
     },
     "execution_count": 41,
     "metadata": {},
     "output_type": "execute_result"
    },
    {
     "data": {
      "image/png": "[encoded data removed]",
      "text/plain": [
       "<matplotlib.figure.Figure at 0x10df23780>"
      ]
     },
     "metadata": {},
     "output_type": "display_data"
    }
   ],
   "source": [
    "from classification_utils import *\n",
    "\n",
    "prod_cats = [\"book\",\"dvd\",\"kitchen\",\"electronics\"]\n",
    "baseline = {}\n",
    "for prod_cat in prod_cats:\n",
    "    repetitions = 2 # accuracy figures are averaged over this many repetitions\n",
    "    NB_accuracy_tot = 0\n",
    "    for i in range(repetitions): # for each sample_size we will find average accuracy over several repetitions\n",
    "        test, train   = get_formatted_train_test_data(prod_cat)\n",
    "        NB_accuracy_tot += run_NB_preformatted(train,test)\n",
    "    baseline[prod_cat] = NB_accuracy_tot/repetitions\n",
    "    \n",
    "pd.set_option('precision',2)\n",
    "df = pd.DataFrame.from_dict(baseline,orient='index')\n",
    "display(df)\n",
    "ax = df.plot.bar(title=\"Experimental Results\",legend=False);\n",
    "ax.set_ylabel(\"Classifier Accuracy\")\n",
    "ax.set_xlabel(\"Product Category\")\n",
    "ax.set_ylim(0.5,1.0)\n",
    "get_formatted_train_test_data(category, feature_extractor=None, split=0.7):"
   ]
  },
  {
   "cell_type": "markdown",
   "metadata": {},
   "source": [
    "### Exercise\n",
    "In the empty cell below, define the feature extractor function `FE_all`, which takes as input an `AmazonReview` object, and outputs a list of strings, where each string is a feature to be used by the Naïve Bayes classifier. \n",
    "\n",
    "Initially, define it to return all of the tokens in the review. \n",
    "\n",
    "- Hint: the set of all words in the review object can be accessed as review.words()\n",
    "\n",
    "We will adapt it in the exercises below."
   ]
  },
  {
   "cell_type": "code",
   "execution_count": null,
   "metadata": {
    "collapsed": true
   },
   "outputs": [],
   "source": []
  },
  {
   "cell_type": "code",
   "execution_count": 55,
   "metadata": {
    "collapsed": true
   },
   "outputs": [],
   "source": [
    "# %load solutions/FE_all\n",
    "def FE_all(review):\n",
    "    return review.words()\n"
   ]
  },
  {
   "cell_type": "markdown",
   "metadata": {},
   "source": [
    "### Exercise \n",
    "Now that you have defined a feature extractor function, you can pass it to the helper function `get_training_testing` that was used in the last exercise. \n",
    "\n",
    "Copy the code cell above that you used to produce the `baseline` dictionary, and adapt it to make use of your feature_extractor function, `FE_all`. \n",
    "\n",
    "Run the new code cell, and save the results in a new dictionary called `FE_all_results`. This feature extractor has no impact on the features that the classifier is using so should not have a significant impact on the accuracy of the classifier.  Check that this is true."
   ]
  },
  {
   "cell_type": "code",
   "execution_count": 59,
   "metadata": {
    "collapsed": false
   },
   "outputs": [
    {
     "data": {
      "text/html": [
       "<div>\n",
       "<style scoped>\n",
       "    .dataframe tbody tr th:only-of-type {\n",
       "        vertical-align: middle;\n",
       "    }\n",
       "\n",
       "    .dataframe tbody tr th {\n",
       "        vertical-align: top;\n",
       "    }\n",
       "\n",
       "    .dataframe thead th {\n",
       "        text-align: right;\n",
       "    }\n",
       "</style>\n",
       "<table border=\"1\" class=\"dataframe\">\n",
       "  <thead>\n",
       "    <tr style=\"text-align: right;\">\n",
       "      <th></th>\n",
       "      <th>0</th>\n",
       "    </tr>\n",
       "  </thead>\n",
       "  <tbody>\n",
       "    <tr>\n",
       "      <th>book</th>\n",
       "      <td>0.79</td>\n",
       "    </tr>\n",
       "    <tr>\n",
       "      <th>dvd</th>\n",
       "      <td>0.80</td>\n",
       "    </tr>\n",
       "    <tr>\n",
       "      <th>kitchen</th>\n",
       "      <td>0.81</td>\n",
       "    </tr>\n",
       "    <tr>\n",
       "      <th>electronics</th>\n",
       "      <td>0.78</td>\n",
       "    </tr>\n",
       "  </tbody>\n",
       "</table>\n",
       "</div>"
      ],
      "text/plain": [
       "                0\n",
       "book         0.79\n",
       "dvd          0.80\n",
       "kitchen      0.81\n",
       "electronics  0.78"
      ]
     },
     "metadata": {},
     "output_type": "display_data"
    },
    {
     "data": {
      "text/html": [
       "<div>\n",
       "<style scoped>\n",
       "    .dataframe tbody tr th:only-of-type {\n",
       "        vertical-align: middle;\n",
       "    }\n",
       "\n",
       "    .dataframe tbody tr th {\n",
       "        vertical-align: top;\n",
       "    }\n",
       "\n",
       "    .dataframe thead th {\n",
       "        text-align: right;\n",
       "    }\n",
       "</style>\n",
       "<table border=\"1\" class=\"dataframe\">\n",
       "  <thead>\n",
       "    <tr style=\"text-align: right;\">\n",
       "      <th></th>\n",
       "      <th>0</th>\n",
       "    </tr>\n",
       "  </thead>\n",
       "  <tbody>\n",
       "    <tr>\n",
       "      <th>book</th>\n",
       "      <td>0.80</td>\n",
       "    </tr>\n",
       "    <tr>\n",
       "      <th>dvd</th>\n",
       "      <td>0.79</td>\n",
       "    </tr>\n",
       "    <tr>\n",
       "      <th>kitchen</th>\n",
       "      <td>0.82</td>\n",
       "    </tr>\n",
       "    <tr>\n",
       "      <th>electronics</th>\n",
       "      <td>0.81</td>\n",
       "    </tr>\n",
       "  </tbody>\n",
       "</table>\n",
       "</div>"
      ],
      "text/plain": [
       "                0\n",
       "book         0.80\n",
       "dvd          0.79\n",
       "kitchen      0.82\n",
       "electronics  0.81"
      ]
     },
     "metadata": {},
     "output_type": "display_data"
    },
    {
     "data": {
      "text/plain": [
       "(0.5, 1.0)"
      ]
     },
     "execution_count": 59,
     "metadata": {},
     "output_type": "execute_result"
    },
    {
     "data": {
      "image/png": "[encoded data removed]",
      "text/plain": [
       "<matplotlib.figure.Figure at 0x10e214940>"
      ]
     },
     "metadata": {},
     "output_type": "display_data"
    }
   ],
   "source": [
    "from classification_utils import *\n",
    "\n",
    "prod_cats = [\"book\",\"dvd\",\"kitchen\",\"electronics\"]\n",
    "FE_all_results = {}\n",
    "for prod_cat in prod_cats:\n",
    "    repetitions = 2 # accuracy figures are averaged over this many repetitions\n",
    "    NB_accuracy_tot = 0\n",
    "    for i in range(repetitions): # for each sample_size we will find average accuracy over several repetitions\n",
    "        test, train   = get_formatted_train_test_data(prod_cat,FE_all)\n",
    "        NB_accuracy_tot += run_NB_preformatted(train,test)\n",
    "    FE_all_results[prod_cat] = NB_accuracy_tot/repetitions\n",
    "    \n",
    "pd.set_option('precision',2)\n",
    "df = pd.DataFrame.from_dict(FE_all_results,orient='index')\n",
    "df2 = pd.DataFrame.from_dict(baseline,orient='index')\n",
    "display(df)\n",
    "display(df2)\n",
    "ax = df.plot.bar(title=\"Experimental Results\",legend=False);\n",
    "ax.set_ylabel(\"Classifier Accuracy\")\n",
    "ax.set_xlabel(\"Product Category\")\n",
    "ax.set_ylim(0.5,1.0)"
   ]
  },
  {
   "cell_type": "code",
   "execution_count": null,
   "metadata": {
    "collapsed": true
   },
   "outputs": [],
   "source": [
    "# %load solutions/test_FE_all"
   ]
  },
  {
   "cell_type": "markdown",
   "metadata": {},
   "source": [
    "### Exercise\n",
    "In a new cell, define a feature extraction function that converts all tokens to lowercase. \n",
    "- Call your new feature extractor `FE_lower`.\n",
    "- See the last section of the Topic 1 notebook for guidance on how to convert tokens to lowercase."
   ]
  },
  {
   "cell_type": "code",
   "execution_count": 73,
   "metadata": {
    "collapsed": true
   },
   "outputs": [],
   "source": [
    "def FE_lower(review):\n",
    "    return [token.lower() for token in review.words()]"
   ]
  },
  {
   "cell_type": "code",
   "execution_count": null,
   "metadata": {
    "collapsed": true
   },
   "outputs": [],
   "source": [
    "# %load solutions/FE_lower"
   ]
  },
  {
   "cell_type": "markdown",
   "metadata": {},
   "source": [
    "### Exercise\n",
    "In a new cell, define a feature extraction function that converts all numbers to \"NUM\". \n",
    "- Call your new feature extractor `FE_NUM`.\n",
    "- See the last section of the Topic 1 notebook for guidance on how to convert tokens to lowercase."
   ]
  },
  {
   "cell_type": "code",
   "execution_count": 75,
   "metadata": {
    "collapsed": true
   },
   "outputs": [],
   "source": [
    "def FE_num(review):\n",
    "    return [\"NUM\" if token.isdigit() else token for token in review.words()]"
   ]
  },
  {
   "cell_type": "code",
   "execution_count": null,
   "metadata": {
    "collapsed": true
   },
   "outputs": [],
   "source": [
    "# %load solutions/FE_NUM"
   ]
  },
  {
   "cell_type": "markdown",
   "metadata": {},
   "source": [
    "### Exercise\n",
    "In a new cell, define a feature extraction function that filters out non-alphabetic words and stopwords.\n",
    "- Call your new feature extractor `FE_puncstop`.\n",
    "- Note that the following two lines must be placed in a cell where this feature extraction function is being used: \n",
    "\n",
    "`from nltk.corpus import stopwords`  \n",
    "`stopwords = stopwords.words('english')`\n"
   ]
  },
  {
   "cell_type": "code",
   "execution_count": 67,
   "metadata": {
    "collapsed": false
   },
   "outputs": [],
   "source": [
    "from nltk.corpus import stopwords\n",
    "stopwords = stopwords.words('english')\n",
    "\n",
    "def FE_puncstop(review):\n",
    "    return [token for token in review.words() if token not in stopwords and token.isalpha()]"
   ]
  },
  {
   "cell_type": "code",
   "execution_count": null,
   "metadata": {
    "collapsed": true
   },
   "outputs": [],
   "source": [
    "# %load solutions/FE_puncstop"
   ]
  },
  {
   "cell_type": "markdown",
   "metadata": {},
   "source": [
    "### Exercise\n",
    "In a new cell, define a feature extraction function that stems all of the tokens.\n",
    "- Call your new feature extractor `FE_stem`.\n",
    "- The code snippet below shows you how to set up a stemmer."
   ]
  },
  {
   "cell_type": "code",
   "execution_count": 77,
   "metadata": {
    "collapsed": true
   },
   "outputs": [],
   "source": [
    "from nltk.stem.porter import PorterStemmer\n",
    "\n",
    "stemmer = PorterStemmer() #Create a new stemmer\n",
    "stemmed = stemmer.stem(\"complications\") #Example usage, stemming a single word\n",
    "\n",
    "#You will need to stem all of the words in a review, \n",
    "#this will require iterating over them with a loop or list comprehension"
   ]
  },
  {
   "cell_type": "code",
   "execution_count": 78,
   "metadata": {
    "collapsed": true
   },
   "outputs": [],
   "source": [
    "def FE_stem(review):\n",
    "    return [stemmer.stem(token) for token in review.words()]"
   ]
  },
  {
   "cell_type": "code",
   "execution_count": null,
   "metadata": {
    "collapsed": true
   },
   "outputs": [],
   "source": [
    "# %load solutions/FE_stem"
   ]
  },
  {
   "cell_type": "markdown",
   "metadata": {},
   "source": [
    "### Exercise\n",
    "Now that you have defined several feature extraction functions, it is time to look at their impact on performance.\n",
    "\n",
    "Make a copy of the cell that you used to determine the accuracy of your first feature extractor, and position the copied cell below this one.\n",
    "\n",
    "Extend the code in the cell to do the following:\n",
    "- Create a dictionary for each of your feature extraction functions.\n",
    "- Display the results in a table using a Pandas dataframe. This table should have one row for each product category and one column for the product category names and additional columns for each of the five feature extraction function."
   ]
  },
  {
   "cell_type": "code",
   "execution_count": 92,
   "metadata": {
    "collapsed": true
   },
   "outputs": [],
   "source": [
    "# uncomment the next line and then run the cell to load a solution\n",
    "#%load solutions/test_FS"
   ]
  },
  {
   "cell_type": "code",
   "execution_count": 95,
   "metadata": {
    "collapsed": false
   },
   "outputs": [
    {
     "data": {
      "text/html": [
       "<div>\n",
       "<style scoped>\n",
       "    .dataframe tbody tr th:only-of-type {\n",
       "        vertical-align: middle;\n",
       "    }\n",
       "\n",
       "    .dataframe tbody tr th {\n",
       "        vertical-align: top;\n",
       "    }\n",
       "\n",
       "    .dataframe thead th {\n",
       "        text-align: right;\n",
       "    }\n",
       "</style>\n",
       "<table border=\"1\" class=\"dataframe\">\n",
       "  <thead>\n",
       "    <tr style=\"text-align: right;\">\n",
       "      <th></th>\n",
       "      <th>book</th>\n",
       "      <th>dvd</th>\n",
       "      <th>electronics</th>\n",
       "      <th>kitchen</th>\n",
       "    </tr>\n",
       "  </thead>\n",
       "  <tbody>\n",
       "    <tr>\n",
       "      <th>baseline</th>\n",
       "      <td>0.79</td>\n",
       "      <td>0.79</td>\n",
       "      <td>0.80</td>\n",
       "      <td>0.83</td>\n",
       "    </tr>\n",
       "    <tr>\n",
       "      <th>all</th>\n",
       "      <td>0.79</td>\n",
       "      <td>0.79</td>\n",
       "      <td>0.80</td>\n",
       "      <td>0.83</td>\n",
       "    </tr>\n",
       "    <tr>\n",
       "      <th>lower</th>\n",
       "      <td>0.77</td>\n",
       "      <td>0.80</td>\n",
       "      <td>0.80</td>\n",
       "      <td>0.82</td>\n",
       "    </tr>\n",
       "    <tr>\n",
       "      <th>NUM</th>\n",
       "      <td>0.78</td>\n",
       "      <td>0.80</td>\n",
       "      <td>0.79</td>\n",
       "      <td>0.83</td>\n",
       "    </tr>\n",
       "    <tr>\n",
       "      <th>puncstop</th>\n",
       "      <td>0.78</td>\n",
       "      <td>0.80</td>\n",
       "      <td>0.79</td>\n",
       "      <td>0.82</td>\n",
       "    </tr>\n",
       "    <tr>\n",
       "      <th>stem</th>\n",
       "      <td>0.79</td>\n",
       "      <td>0.78</td>\n",
       "      <td>0.80</td>\n",
       "      <td>0.83</td>\n",
       "    </tr>\n",
       "  </tbody>\n",
       "</table>\n",
       "</div>"
      ],
      "text/plain": [
       "          book   dvd  electronics  kitchen\n",
       "baseline  0.79  0.79         0.80     0.83\n",
       "all       0.79  0.79         0.80     0.83\n",
       "lower     0.77  0.80         0.80     0.82\n",
       "NUM       0.78  0.80         0.79     0.83\n",
       "puncstop  0.78  0.80         0.79     0.82\n",
       "stem      0.79  0.78         0.80     0.83"
      ]
     },
     "metadata": {},
     "output_type": "display_data"
    },
    {
     "data": {
      "text/plain": [
       "(0.5, 1.0)"
      ]
     },
     "execution_count": 95,
     "metadata": {},
     "output_type": "execute_result"
    },
    {
     "data": {
      "image/png": "[encoded data removed]",
      "text/plain": [
       "<matplotlib.figure.Figure at 0x10c91dc50>"
      ]
     },
     "metadata": {},
     "output_type": "display_data"
    }
   ],
   "source": [
    "from classification_utils import *\n",
    "\n",
    "prod_cats = [\"book\",\"dvd\",\"kitchen\",\"electronics\"]\n",
    "baseline = {}\n",
    "FE_all_results = {}\n",
    "FE_lower_results = {}\n",
    "FE_num_results = {}\n",
    "FE_puncstop_results = {}\n",
    "FE_stem_results = {}\n",
    "for prod_cat in prod_cats:\n",
    "    repetitions = 5 # accuracy figures are averaged over this many repetitions\n",
    "    baseline_accuracy = 0\n",
    "    FE_all_accuracy = 0\n",
    "    FE_lower_accuracy = 0\n",
    "    FE_num_accuracy = 0\n",
    "    FE_puncstop_accuracy = 0\n",
    "    FE_stem_accuracy = 0\n",
    "    for i in range(repetitions): # for each sample_size we will find average accuracy over several repetitions\n",
    "        b_test, b_train   = get_formatted_train_test_data(prod_cat)\n",
    "        a_test, a_train   = get_formatted_train_test_data(prod_cat,FE_all)\n",
    "        l_test, l_train   = get_formatted_train_test_data(prod_cat,FE_lower)\n",
    "        n_test, n_train   = get_formatted_train_test_data(prod_cat,FE_num)\n",
    "        p_test, p_train   = get_formatted_train_test_data(prod_cat,FE_puncstop)\n",
    "        s_test, s_train   = get_formatted_train_test_data(prod_cat,FE_stem)\n",
    "\n",
    "        baseline_accuracy += run_NB_preformatted(b_train,b_test)\n",
    "        FE_all_accuracy += run_NB_preformatted(a_train,a_test)\n",
    "        FE_lower_accuracy += run_NB_preformatted(l_train,l_test)\n",
    "        FE_num_accuracy += run_NB_preformatted(n_train,n_test)\n",
    "        FE_puncstop_accuracy += run_NB_preformatted(p_train,p_test)\n",
    "        FE_stem_accuracy += run_NB_preformatted(s_train,s_test)\n",
    "\n",
    "\n",
    "    baseline[prod_cat] = baseline_accuracy/repetitions\n",
    "    FE_all_results[prod_cat] = FE_all_accuracy/repetitions\n",
    "    FE_lower_results[prod_cat] = FE_lower_accuracy/repetitions\n",
    "    FE_num_results[prod_cat] = FE_num_accuracy/repetitions\n",
    "    FE_puncstop_results[prod_cat] = FE_puncstop_accuracy/repetitions\n",
    "    FE_stem_results[prod_cat] = FE_stem_accuracy/repetitions\n",
    "    \n",
    "headings = [\"baseline\",\"all\",\"lower\", \"NUM\", \"puncstop\", \"stem\"]\n",
    "pd.set_option('precision',2)\n",
    "df = pd.DataFrame([baseline,FE_all_results,FE_lower_results,FE_num_results,FE_puncstop_results,FE_stem_results],index=headings)\n",
    "display(df)\n",
    "ax = df.plot.bar(title=\"Experimental Results\",legend=False);\n",
    "ax.legend(('book','dvd','electronics','kitchen'))\n",
    "ax.set_ylabel(\"Classifier Accuracy\")\n",
    "ax.set_xlabel(\"Extraction function used\")\n",
    "ax.set_ylim(0.5,1.0)"
   ]
  },
  {
   "cell_type": "code",
   "execution_count": null,
   "metadata": {
    "collapsed": true
   },
   "outputs": [],
   "source": []
  }
 ],
 "metadata": {
  "anaconda-cloud": {},
  "kernelspec": {
   "display_name": "Python 3",
   "language": "python",
   "name": "python3"
  },
  "language_info": {
   "codemirror_mode": {
    "name": "ipython",
    "version": 3
   },
   "file_extension": ".py",
   "mimetype": "text/x-python",
   "name": "python",
   "nbconvert_exporter": "python",
   "pygments_lexer": "ipython3",
   "version": "3.6.3"
  }
 },
 "nbformat": 4,
 "nbformat_minor": 1
}
