{
 "cells": [
  {
   "cell_type": "markdown",
   "metadata": {},
   "source": [
    "# Sessions 8 and 9: Opinion Extraction"
   ]
  },
  {
   "cell_type": "markdown",
   "metadata": {},
   "source": [
    "<div style=\"background-color: #FAFAD2;color:#8B0000;border:1px solid #DCDCDC;padding: 5px;\">\n",
    "<h3>Things for you to do</h3>\n",
    "<ul>\n",
    "<li><span style=\"color:#8B0000\">The first thing you need to do is run the following cell. This will give you access to the Sussex NLTK package.</span></li>\n",
    "</ul>\n",
    "</div>"
   ]
  },
  {
   "cell_type": "code",
   "execution_count": null,
   "metadata": {
    "collapsed": false
   },
   "outputs": [],
   "source": [
    "import sys\n",
    "sys.path.append(r'T:\\Departments\\Informatics\\LanguageEngineering')"
   ]
  },
  {
   "cell_type": "markdown",
   "metadata": {},
   "source": [
    "In labs 8 and 9 you will be looking at ways to extract opinion bearing words from DVD Amazon reviews. The goal is to find words that describe particular aspects of the film being reviewed. The specific aspects of films that we will be considering are: the <b>plot</b>, the <b>characters</b>, the <b>cinematography</b> and the <b>dialogue</b>. We are, in other words, interested in finding all of those words in a review that express the reviewers opinion about one of these aspects of the film. The idea is that this will provide a fine-grained characterisation of the opinion being expressed by the author of the review. We will refer to the words we are looking for as <b>opinion words</b>, and refer to the words used for particular aspects of the review as <b>aspect words</b>.\n",
    "\n",
    "Following on from last week's session on dependency parsing, you will use the output of a dependency parser as the basis for identifying opinion words. This is based on the assumption that the opinion words we are looking for are words that occur in a sentence in the review in a particular (dependency) relationship to one of our aspect words (plot, characters, cinematography and dialogue).\n",
    "\n",
    "For example, the opinion word \"amazing\" might be found because it is used in a sentence where it is an adjective modifying the aspect word \"plot\", as in the sentence \"I thought it had an amazing plot.\"."
   ]
  },
  {
   "cell_type": "markdown",
   "metadata": {},
   "source": [
    "## Acquiring parsed sentences"
   ]
  },
  {
   "cell_type": "markdown",
   "metadata": {},
   "source": [
    "As you may have noticed from the previous session, loading a dependency parser into memory is quite a slow task on the lab machines over the network. So we have pre-parsed a collection of relevant DVD sentences for you. The code snippet below shows you how to get access to the pre-parsed sentences."
   ]
  },
  {
   "cell_type": "code",
   "execution_count": null,
   "metadata": {
    "collapsed": false
   },
   "outputs": [],
   "source": [
    "from sussex_nltk.parse import load_parsed_dvd_sentences\n",
    "\n",
    "aspect = \"dialogue\"  # Our aspect word\n",
    "parsed_sentences = load_parsed_dvd_sentences(aspect)\n",
    "\n",
    "# To inspect the sentences, you could print them straight out\n",
    "for parsed_sentence in parsed_sentences:\n",
    "    print \"--- Sentence ---\"\n",
    "    print parsed_sentence\n",
    "            \n",
    "# parsed_sentences is a list of ParsedSentence objects, where each sentence\n",
    "# contains the word \"dialogue\" and was found in a DVD review."
   ]
  },
  {
   "cell_type": "markdown",
   "metadata": {},
   "source": [
    "Note that it is not possible to give an arbitrary aspect word as input to the <code style=\"background-color: #F5F5F5;\">load_parsed_dvd_sentences</code> function that we have provided. Since it takes considerable computational resource to produce these data sets, we have pre-assembled a limited amount of suitable data for you to use for your experimentation.\n",
    "\n",
    "Below is a full list of the aspects words that you can pass to the <code style=\"background-color: #F5F5F5;\">load_parsed_dvd_sentences</code> function. The aspects in blue are the ones that you should definitely explore during these lab sessions (the others are for those interested in further exploration).\n",
    "\n",
    "- <span style=\"color:#0000CD\">plot</span>\n",
    "- <span style=\"color:#0000CD\">characters</span>\n",
    "- <span style=\"color:#0000CD\">cinematography</span>\n",
    "- <span style=\"color:#0000CD\">dialogue</span>\n",
    "- effects\n",
    "- acting\n",
    "- choreography"
   ]
  },
  {
   "cell_type": "markdown",
   "metadata": {},
   "source": [
    "<div style=\"background-color: #FAFAD2;color:#8B0000;border:1px solid #DCDCDC;padding: 5px;\"> \n",
    "<h3>Things for you to do</h3>\n",
    "<ul>\n",
    "<li>For each of the aspect words \"plot\", \"characters\", \"cinematography\" and \"dialogue\", use the function <code style=\"background-color: #F5F5F5;color:#8B0000\">load_parsed_dvd_sentences</code> to retrieve the parses for that aspect and find out how many parsed sentences are retrieved for that aspect.</li>\n",
    "</ul>\n",
    "</div>"
   ]
  },
  {
   "cell_type": "markdown",
   "metadata": {},
   "source": [
    "## Extracting content from ParsedSentence"
   ]
  },
  {
   "cell_type": "markdown",
   "metadata": {},
   "source": [
    "When you call <code style=\"background-color: #F5F5F5;\">load_parsed_dvd_sentences(\"plot\")</code>, you know that each sentence in the list that is returned contains at least one occurrence of the word \"plot\". However, you do not know the position(s) in the sentence where \"plot\" occurs. For that you need a reference to the <code style=\"background-color: #F5F5F5;\">BasicToken</code> objects for the occurrences of \"plot\". A BasicToken object provides access to the token's head and dependants.\n",
    "\n",
    "The <code style=\"background-color: #F5F5F5;\">ParsedSentence</code> object has a function called <code style=\"background-color: #F5F5F5;\">get_query_tokens</code> which will return a list of occurrences of the string given as its argument in that sentence as BasicToken</code> objects. The example below shows you how to get all the aspect tokens in a sentence and print them out."
   ]
  },
  {
   "cell_type": "code",
   "execution_count": null,
   "metadata": {
    "collapsed": false
   },
   "outputs": [],
   "source": [
    "aspect = \"dialogue\"\n",
    "\n",
    "# If you have a ParsedSentence object, you can get all the tokens whose form matches the aspect as shown below.\n",
    "# So instead of just printing the parsed_sentence as in the previous section, get its aspect tokens and print them.\n",
    "aspect_tokens = parsed_sentence.get_query_tokens(aspect)\n",
    "\n",
    "# You could iterate over them and print them for inspection\n",
    "for aspect_token in aspect_tokens:\n",
    "    print aspect_token\n",
    "    \n",
    "# Remember that each token in a ParsedSentence object is BasicToken object"
   ]
  },
  {
   "cell_type": "markdown",
   "metadata": {},
   "source": [
    "The <code style=\"background-color: #F5F5F5;\">ParsedSentence</code> object has a function for getting the dependants of a token. The code below shows how to use it, and how to print the result."
   ]
  },
  {
   "cell_type": "code",
   "execution_count": null,
   "metadata": {
    "collapsed": false
   },
   "outputs": [],
   "source": [
    "# Given a ParsedSentence object, and an aspect token acquired from it (as in the previous section)\n",
    "# Get all of the dependants of that aspect token.\n",
    "dependants = parsed_sentence.get_dependants(aspect_token)\n",
    "\n",
    "# You could print them out for inspection\n",
    "for dependant in dependants:\n",
    "    print dependant"
   ]
  },
  {
   "cell_type": "markdown",
   "metadata": {},
   "source": [
    "The <code style=\"background-color: #F5F5F5;\">ParsedSentence</code> object has a function for getting the head of a token. The code below shows how to use it, and how to print the result."
   ]
  },
  {
   "cell_type": "code",
   "execution_count": null,
   "metadata": {
    "collapsed": false
   },
   "outputs": [],
   "source": [
    "# Given a ParsedSentence object, and an aspect token acquired from it (as in the previous section)\n",
    "# Get the head of the aspect token\n",
    "\n",
    "head_token = parsed_sentence.get_head(aspect_token)\n",
    "print head_token"
   ]
  },
  {
   "cell_type": "markdown",
   "metadata": {},
   "source": [
    "<div style=\"background-color: #FAFAD2;color:#8B0000;border:1px solid #DCDCDC;padding: 5px;\"> \n",
    "<h3>Things for you to do</h3>\n",
    "<ul>\n",
    "<li>Write a function that takes an aspects (\"plot\", \"characters\", \"cinematography\", and \"dialogue\") and returns a list of all of the dependants of that aspect in the parsed dvd sentences.</li>\n",
    "<li>Write a function that takes an aspects (\"plot\", \"characters\", \"cinematography\", and \"dialogue\") and returns a list of all of the heads of that aspect in the parsed dvd sentences.</li>\n",
    "</ul>\n",
    "</div>"
   ]
  },
  {
   "cell_type": "markdown",
   "metadata": {},
   "source": [
    "## Opinion extractor"
   ]
  },
  {
   "cell_type": "markdown",
   "metadata": {},
   "source": [
    "Over the next two weeks you will be creating your own opinion extractor. In the code snippet below you will find a simple one to get you started."
   ]
  },
  {
   "cell_type": "markdown",
   "metadata": {},
   "source": [
    "<div style=\"background-color: #F0FFFF;border:1px solid #DCDCDC;padding: 5px;\"><b>Function</b>: <code style=\"background-color: #F5F5F5;\">opinion_extractor</code>\n",
    "<dl>\n",
    "<dt>Arguments</dt>\n",
    "<dd><code style=\"background-color: #F5F5F5;\">aspect_token</code> is the <code style=\"background-color: #F5F5F5;\">BasicToken</code> instance (for our aspect token) from the <code style=\"background-color: #F5F5F5;\">ParsedSentence</code> that we're interested in.</dd>\n",
    "<dd><code style=\"background-color: #F5F5F5;\">parsed_sentence</code> is the <code style=\"background-color: #F5F5F5;\">ParsedSentence</code> instance containing the dependency tree information of our sentence of interest.</dd>\n",
    "<dt>Returns</dt>\n",
    "<dd>A list of the extracted opinions. <code style=\"background-color: #F5F5F5;\">opinion_extractor</code> should always return a list (even if it's empty).</dd>\n",
    "</dl></div>"
   ]
  },
  {
   "cell_type": "code",
   "execution_count": null,
   "metadata": {
    "collapsed": false
   },
   "outputs": [],
   "source": [
    "def opinion_extractor(aspect_token, parsed_sentence):\n",
    "    \n",
    "    # Your function will have 3 steps:\n",
    "    \n",
    "    # i. Initialise a list of opinions\n",
    "    opinions = []\n",
    "    \n",
    "    # ii. Find opinions (as an example we get all the dependants of the aspect token that have the relation \"det\")\n",
    "    opinions += [dependant.form for dependant in parsed_sentence.get_dependants(aspect_token) if dependant.deprel == \"det\"]\n",
    "    # You can continue to add to \"opinions\". Remember you can get the head of a token, and filter by PoS tag or Deprel too!\n",
    "    \n",
    "    # iii. Return the (possibly empty) list of opinions\n",
    "    return opinions"
   ]
  },
  {
   "cell_type": "markdown",
   "metadata": {},
   "source": [
    "In the sections below, we will be describing a variety of ways in which you are asked to refine the simple <code style=\"background-color: #F5F5F5;\">opinion_extractor</code> function shown above. When you are investigating how well the <code style=\"background-color: #F5F5F5;\">opinion_extractor</code> you have built are working, you will want to view your opinion extractor's output for a substantial number of sentences. It would be wise to print your output to a file. You are shown how to do this below.\n",
    "\n",
    "Note that you will need to replace <code style=\"background-color: #F5F5F5;\">\"/path/to/file.txt\"</code> with a suitable path."
   ]
  },
  {
   "cell_type": "code",
   "execution_count": null,
   "metadata": {
    "collapsed": false
   },
   "outputs": [],
   "source": [
    "from sussex_nltk.parse import load_parsed_dvd_sentences, load_parsed_example_sentences\n",
    "\n",
    "aspect = \"plot\"   # Set this to the aspect token you're interested in\n",
    "save_file_path = r\"/path/to/savefile.txt\"    # Set this to the location of the file you wish to create/overwrite with the saved output.\n",
    "\n",
    "# Tracking these numbers will allow us to see what proportion of sentences we discovered features in\n",
    "sentences_with_discovered_features = 0  # Number of sentences we discovered features in\n",
    "total_sentences = 0  # Total number of sentences \n",
    "\n",
    "# This is a \"with statement\", it invokes a context manager, which handles the opening and closing of resources (like files)\n",
    "with open(save_file_path, \"w\") as save_file:  # The 'w' says that we want to write to the file\n",
    "    \n",
    "    # Iterate over all the parsed sentences\n",
    "    for parsed_sentence in load_parsed_dvd_sentences(aspect):   \n",
    "        \n",
    "        total_sentences += 1  # We've seen another sentence\n",
    "        \n",
    "        opinions = [] # Make a list for holding any opinions we extract in this sentence\n",
    "\n",
    "        # Iterate over each of the aspect tokens in the sentences (in case there is more than one)\n",
    "        for aspect_token in parsed_sentence.get_query_tokens(aspect):\n",
    "            \n",
    "            # Call your opinion extractor\n",
    "            opinions += opinion_extractor(aspect_token, parsed_sentence)\n",
    "        \n",
    "        # If we found any opinions, write to the output file what we know.\n",
    "        if opinions: \n",
    "            # Currently, the sentence will only be printed if opinions were found. But if you want to know what you're missing, you could move the sentence printing outside the if-statement\n",
    "            \n",
    "            # Print a separator and the raw unparsed sentence\n",
    "            save_file.write(\"--- Sentence: %s ---\\n\" % parsed_sentence.raw())  # \"\\n\" starts a new line\n",
    "            # Print the parsed sentence\n",
    "            save_file.write(\"%s\\n\" % parsed_sentence) \n",
    "            # Print opinions extracted\n",
    "            save_file.write(\"Opinions: %s\\n\" % opinions)\n",
    "            \n",
    "            sentences_with_discovered_features += 1  # We've found features in another sentence\n",
    "            \n",
    "print \"%s sentences out of %s contained features\" % (sentences_with_discovered_features, total_sentences)"
   ]
  },
  {
   "cell_type": "markdown",
   "metadata": {},
   "source": [
    "<div style=\"background-color: #FAFAD2;color:#8B0000;border:1px solid #DCDCDC;padding: 5px;\"> \n",
    "<h3>Things for you to do</h3>\n",
    "<ul>\n",
    "<li>Using the basic opinion extractor we provide and the above code for storing opinion words in files, find the opinion words for each of the aspect tokens under consideration.</li>\n",
    "</ul>\n",
    "</div>"
   ]
  },
  {
   "cell_type": "markdown",
   "metadata": {},
   "source": [
    "## Adapting the opinion extractor"
   ]
  },
  {
   "cell_type": "markdown",
   "metadata": {},
   "source": [
    "In the sections below we will be asking you to adapt the opinion extractor in various ways. First, however, we give you examples of python code that will help you devise your adapted opinion extractor. You should refer to these examples when you are working on your own opinion extractors.\n",
    "\n",
    "The <code style=\"background-color: #F5F5F5;\">BasicToken</code> object has a number of useful properties, include the following:\n",
    "\n",
    "- <code style=\"background-color: #F5F5F5;\">form</code>: the actual form of the token, e.g. \"plot\"\n",
    "- <code style=\"background-color: #F5F5F5;\">pos</code>: the part-of-speech of the token, e.g. \"JJ\" for adjective\n",
    "- <code style=\"background-color: #F5F5F5;\">deprel</code>: the dependency relation that the <code style=\"background-color: #F5F5F5;\">BasicToken</code> has with its head, e.g. \"det\" for determiner\"\n",
    "\n",
    "As the code snippet shown below illustrates, we can do different things depending on these properties."
   ]
  },
  {
   "cell_type": "code",
   "execution_count": null,
   "metadata": {
    "collapsed": false
   },
   "outputs": [],
   "source": [
    "# Say for example we acquire a list of BasicToken objects by getting all the dependants of a token:\n",
    "dependants = parsed_sentence.get_dependants(aspect_token)\n",
    "\n",
    "# We could filter that list, keeping only those tokens whose dependency relations with the aspect token are \"dobj\", by doing the following:\n",
    "dependants = [token for token in dependants if token.deprel == \"dobj\"] \n",
    "\n",
    "# Or we could filter that list, keeping only those tokens whose PoS tags are \"RB\" (for adverb)\n",
    "dependants = [token for token in dependants if token.pos == \"RB\"]\n",
    "\n",
    "# Or we could filter that list, keeping only those tokens whose form is NOT \"main\" or \"special\"\n",
    "dependants = [token for token in dependants if token.form != \"main\" and token.form != \"special\"]\n",
    "\n",
    "# Or if we had a single token, we could choose to add it to a list or not based on its properties\n",
    "opinions = []\n",
    "if token.pos.startswith(\"JJ\"):  # If token is an adjective, then append its form to our list of opinions\n",
    "    opinions.append(token.form)\n",
    "    \n",
    "# Or we could search tokens for a property we wish to know is present\n",
    "found_det = False\n",
    "for dependant in dependants:\n",
    "    if dependant.deprel == \"det\":\n",
    "        found_det = True\n",
    "# Now subsequent code can use \"found_det\" to perform different tasks depending on\n",
    "# whether or not there was a determiner relation in the dependants."
   ]
  },
  {
   "cell_type": "markdown",
   "metadata": {},
   "source": [
    "## Extending the opinion extractor's functionality"
   ]
  },
  {
   "cell_type": "markdown",
   "metadata": {},
   "source": [
    "For the assessed coursework you are asked to develop and assess several extensions to the opinion extractor given above. For full details of what is required for the coursework see the coursework specification document.\n",
    "\n",
    "All of the extensions below can be completed by adapting the examples shown in the previous sections. Look out for situations where you need to find the dependants or heads of tokens, or when you need to check the PoS or dependency type of a token.\n",
    "\n",
    "You will benefit greatly from reading the section Tips for de-bugging and exploration (see below). Note that this section describes how to use a tool for visualising dependency trees."
   ]
  },
  {
   "cell_type": "markdown",
   "metadata": {},
   "source": [
    "### Examples Test Set"
   ]
  },
  {
   "cell_type": "markdown",
   "metadata": {},
   "source": [
    "In order to check that the opinion extractor you are developing is correctly defined, we have provided easy access to all of the example sentences used in this document. This will be referred to as the examples test set. All of the sentences in the test data have been parsed.\n",
    "\n",
    "In order to access the examples test set you should do the following:\n",
    "\n",
    "- replace <code style=\"background-color: #F5F5F5;\">load_parsed_dvd_sentences(aspect)</code> with <code style=\"background-color: #F5F5F5;\">load_parsed_example_sentences()</code>, and\n",
    "- ensure that you're importing <code style=\"background-color: #F5F5F5;\">load_parsed_example_sentences</code> from <code style=\"background-color: #F5F5F5;\">sussex_nltk.parse</code>"
   ]
  },
  {
   "cell_type": "code",
   "execution_count": 0,
   "metadata": {
    "collapsed": false
   },
   "outputs": [],
   "source": [
    "from sussex_nltk.parse import load_parsed_example_sentences\n",
    "\n",
    "parsed_example_sentences = load_parsed_example_sentences()\n",
    " \n",
    "# To inspect the sentences, you could print them straight out\n",
    "for parsed_sentence in parsed_example_sentences:\n",
    "    print \"--- Sentence ---\"\n",
    "    print parsed_sentence"
   ]
  },
  {
   "cell_type": "markdown",
   "metadata": {},
   "source": [
    "Note that in your coursework you should discuss the effectiveness of your opinion extractor on the full set of parsed DVD reviews."
   ]
  },
  {
   "cell_type": "markdown",
   "metadata": {},
   "source": [
    "### Extension 1: Adjectival modification"
   ]
  },
  {
   "cell_type": "markdown",
   "metadata": {},
   "source": [
    "In this section, we are interested in adjectival modification. This is when we have a noun like \"dog\" or \"plot\", and there are one or more adjectives which are specifying the characteristics of that noun. E.g. \"big brown dog\" or \"exciting fresh plot\" (\"big\" and \"brown\" are both adjectivally modifying \"dog\").\n",
    "\n",
    "The dependency relation we use to show this relationship is \"amod\".\n",
    "\n",
    "Write a version of the opinion extraction function which, when given sentences such as the example below containing an aspects token (e.g. \"plot\"), uses the \"amod\" relations to extract a list of the adjectival modifiers of the aspect token (e.g. the two words \"exciting\" and \"fresh\" in this case).\n",
    "\n",
    "- \"It has an exciting fresh plot.\" produces \"fresh\", \"exciting\""
   ]
  },
  {
   "cell_type": "markdown",
   "metadata": {},
   "source": [
    "![Extension 1 example](./img/amod_example.png)"
   ]
  },
  {
   "cell_type": "markdown",
   "metadata": {},
   "source": [
    "<div style=\"background-color: #FFDEAD;border:1px solid #DCDCDC;padding: 5px;\">\n",
    "NOTE   \n",
    "You may notice that certain aspect tokens are often described by non-opinion words. For example the phrase \"main plot\" is often used; \"main\" adjectivally modifies \"plot\", so your opinion extractor will find \"main\" as an opinion. In the code snippets above we show you how to filter tokens based on their form; you could filter out specific words like \"main\".\n",
    "</div>"
   ]
  },
  {
   "cell_type": "markdown",
   "metadata": {},
   "source": [
    "<div style=\"background-color: #FAFAD2;color:#8B0000;border:1px solid #DCDCDC;padding: 5px;\"> \n",
    "<h3>Things for you to do</h3>\n",
    "<ul>\n",
    "<li>Extend the opinion extractor as described above and apply it to examples test set in order to check that your function is working as required.</li>\n",
    "<li>Investigate the extent to which your opinion extractor produces appropriate opinion bearing words by applying it to the full set of parsed DVD reviews. Consider all four aspects: \"plot\", \"characters\", \"cinematography\", and \"dialogue\".</li>\n",
    "</ul>\n",
    "</div>"
   ]
  },
  {
   "cell_type": "markdown",
   "metadata": {},
   "source": [
    "### Extension 2: Adjectives linked by copulae"
   ]
  },
  {
   "cell_type": "markdown",
   "metadata": {},
   "source": [
    "In this section, we are interested in adjectives (PoS tag \"JJ\") which are linked to our aspect term via the copula (conjugations of \"to be\": \"is\", \"was\", \"will be\" etc.). Notice that if we were only looking for \"amod\" relations, we'd completely miss the word \"dull\" in the diagram below.\n",
    "\n",
    "Notice that when linked via a copula to an adjective, the noun is always in an \"nsubj\" relation with the adjective itself.\n",
    "\n",
    "Your opinion extraction function when given a sentences like the example below containing the aspect token \"plot\", should use appropriate dependency relations to output the term opinion word \"dull\".\n",
    "\n",
    "- \"The plot was dull.\" produces \"dull\""
   ]
  },
  {
   "cell_type": "markdown",
   "metadata": {},
   "source": [
    "![Extension 2 example](./img/copula_example.png)"
   ]
  },
  {
   "cell_type": "markdown",
   "metadata": {},
   "source": [
    "<div style=\"background-color: #FAFAD2;color:#8B0000;border:1px solid #DCDCDC;padding: 5px;\"> \n",
    "<h3>Things for you to do</h3>\n",
    "<ul>\n",
    "<li>Extend the opinion extractor as described above and apply it to examples test set in order to check that your function is working as required.</li>\n",
    "<li>Investigate the extent to which your opinion extractor produces appropriate opinion bearing words by applying it to the full set of parsed DVD reviews. Consider all four aspects: \"plot\", \"characters\", \"cinematography\", and \"dialogue\".</li>\n",
    "</ul>\n",
    "</div>"
   ]
  },
  {
   "cell_type": "markdown",
   "metadata": {},
   "source": [
    "### Extension 3: Adverbial modifiers"
   ]
  },
  {
   "cell_type": "markdown",
   "metadata": {},
   "source": [
    "If you used the extractor you have built so far on the example sentences below, it will only find the opinion \"dull\". It would not recover an indication of the strength of the opinion. Adverbs like \"excessively\" elaborate on the adjectives that they modify in adverbial modification relations.\n",
    "\n",
    "The relevant dependency relation we use to show this relationship is \"advmod\".\n",
    "\n",
    "Your opinion extraction function when given a sentence like those below containing the aspect token \"plot\", should use the advmod relation to output features like \"excessively-dull\" (if you have an adjective token in a variable <code style=\"background-color: #F5F5F5;\">adj_token</code>, and an adverb in a variable <code style=\"background-color: #F5F5F5;\">adv_token</code> then you could create this feature like this: <code style=\"background-color: #F5F5F5;\">adv_token.form + \"-\" + adj_token.form</code>).\n",
    "\n",
    "- \"It has an excessively dull plot.\" produces \"excessively-dull\"\n",
    "- \"The plot was excessively dull.\" produces \"excessively-dull\""
   ]
  },
  {
   "cell_type": "markdown",
   "metadata": {},
   "source": [
    "![Extension 3 example](./img/advmod_example.png)"
   ]
  },
  {
   "cell_type": "markdown",
   "metadata": {},
   "source": [
    "<div style=\"background-color: #FFDEAD;border:1px solid #DCDCDC;padding: 5px;\">\n",
    "NOTE   \n",
    "If you have a list of strings, you can use python's <code style=\"background-color: #F5F5F5;\">join</code> function to concatenate them into a single string. The following would join the strings together, placing a <code style=\"background-color: #F5F5F5;\">\"-\"</code> between each:  \n",
    "<code style=\"background-color: #F5F5F5;\">joined_string = \"-\".join(listofstrings)</code>\n",
    "</div>"
   ]
  },
  {
   "cell_type": "markdown",
   "metadata": {},
   "source": [
    "<div style=\"background-color: #FAFAD2;color:#8B0000;border:1px solid #DCDCDC;padding: 5px;\"> \n",
    "<h3>Things for you to do</h3>\n",
    "<ul>\n",
    "<li>Extend the opinion extractor as described above and apply it to examples test set in order to check that your function is working as required.</li>\n",
    "<li>Investigate the extent to which your opinion extractor produces appropriate opinion bearing words by applying it to the full set of parsed DVD reviews. Consider all four aspects: \"plot\", \"characters\", \"cinematography\", and \"dialogue\".</li>\n",
    "</ul>\n",
    "</div>"
   ]
  },
  {
   "cell_type": "markdown",
   "metadata": {},
   "source": [
    "### Extension 4: Negation"
   ]
  },
  {
   "cell_type": "markdown",
   "metadata": {},
   "source": [
    "Look at the tree below; it is an example of an adjective linked by a copula. Your existing opinion extractor would extract \"dull\". However, notice that the example is saying that the plot was not dull! This is an example of the use of negation.\n",
    "\n",
    "The dependency relation we use to show this relationship is \"neg\".\n",
    "\n",
    "Your opinion extraction function when given sentences like those below containing the aspect token \"plot\", should use the \"neg\" relation to output features like \"not-dull\". If you have an adjective token called \"token\", then you could create this feature like this: <code style=\"background-color: #F5F5F5;\">\"not-\" + token.form</code>.\n",
    "\n",
    "- \"The plot wasn't dull.\" produces \"not-dull\"\n",
    "- \"It wasn't an exciting fresh plot.\" produces \"not-exciting\", \"not-fresh\"\n",
    "- \"The plot wasn't excessively dull.\" produces \"not-excessively-dull\""
   ]
  },
  {
   "cell_type": "markdown",
   "metadata": {},
   "source": [
    "![Extension 4 example](./img/negation_example.png)"
   ]
  },
  {
   "cell_type": "markdown",
   "metadata": {},
   "source": [
    "<div style=\"background-color: #FAFAD2;color:#8B0000;border:1px solid #DCDCDC;padding: 5px;\"> \n",
    "<h3>Things for you to do</h3>\n",
    "<ul>\n",
    "<li>Extend the opinion extractor as described above and apply it to examples test set in order to check that your function is working as required.</li>\n",
    "<li>Investigate the extent to which your opinion extractor produces appropriate opinion bearing words by applying it to the full set of parsed DVD reviews. Consider all four aspects: \"plot\", \"characters\", \"cinematography\", and \"dialogue\".</li>\n",
    "</ul>\n",
    "</div>\n"
   ]
  },
  {
   "cell_type": "markdown",
   "metadata": {},
   "source": [
    "### Extension 5: Conjunction"
   ]
  },
  {
   "cell_type": "markdown",
   "metadata": {},
   "source": [
    "If you used your existing extractor on the tree below, it would only extract \"cheesy\". However, \"fun\" and \"inspiring\" are both conjoined with \"cheesy\"; this means that they all apply to the subject (\"plot\").\n",
    "\n",
    "This conjunction relation is shown via the \"conj\" dependency. Note that words other than adjectives can be the conjuncts. You could investigate whether this is a problem.\n",
    "\n",
    "Your opinion extraction function when given sentences like these containing the aspect token \"plot\" should uses the \"conj\" relation to extract all of the relevant features \"cheesy, fun, inspiring\".\n",
    "\n",
    "- \"The plot was cheesy, but fun and inspiring.\" produces \"cheesy\", \"fun\", \"inspiring\"\n",
    "- \"The plot was really cheesy and not particularly special.\" produces \"really-cheesy\", \"not-particularly-special\""
   ]
  },
  {
   "cell_type": "markdown",
   "metadata": {},
   "source": [
    "![Extension 5 example](./img/conj_example.png)"
   ]
  },
  {
   "cell_type": "markdown",
   "metadata": {},
   "source": [
    "<div style=\"background-color: #FAFAD2;color:#8B0000;border:1px solid #DCDCDC;padding: 5px;\"> \n",
    "<h3>Things for you to do</h3>\n",
    "<ul>\n",
    "<li>Extend the opinion extractor as described above and apply it to examples test set in order to check that your function is working as required.</li>\n",
    "<li>Investigate the extent to which your opinion extractor produces appropriate opinion bearing words by applying it to the full set of parsed DVD reviews. Consider all four aspects: \"plot\", \"characters\", \"cinematography\", and \"dialogue\".</li>\n",
    "</ul>\n",
    "</div>\n"
   ]
  },
  {
   "cell_type": "markdown",
   "metadata": {},
   "source": [
    "### Additional extensions"
   ]
  },
  {
   "cell_type": "markdown",
   "metadata": {},
   "source": [
    "This section presents some examples on which your current opinion extractor will fail. In all of the examples below, \"plot\" is the aspect token.\n",
    "\n",
    "- \"The script and plot are utterly excellent.\" produces \"utterly-excellent\"\n",
    "- \"The script and plot were unoriginal and boring.\" produces \"unoriginal\", \"boring\"\n",
    "- \"The plot wasn't lacking.\" produces \"not-lacking\"\n",
    "- \"The plot is full of holes.\" produces \"full-of-holes\"\n",
    "- \"There was no logical plot to this story.\" produces \"no-logical\"\n",
    "- \"I loved the plot.\" produces \"loved\"\n",
    "- \"I didn't mind the plot.\" produces \"not-mind\""
   ]
  },
  {
   "cell_type": "markdown",
   "metadata": {},
   "source": [
    "<div style=\"background-color: #FAFAD2;color:#8B0000;border:1px solid #DCDCDC;padding: 5px;\"> \n",
    "<h3>Things for you to do</h3>\n",
    "<ul>\n",
    "<li>Extend your extractor so that its output matches the expected output. Ensure that you make use of the dependencies relating the aspect token to the rest of the sentence. For example, do not just retrieve all of the adjectives in the sentence since this does not generalise well to more complex sentences.</li>\n",
    "</ul>\n",
    "</div>"
   ]
  },
  {
   "cell_type": "markdown",
   "metadata": {},
   "source": [
    "## Tips for de-bugging and exploration"
   ]
  },
  {
   "cell_type": "markdown",
   "metadata": {},
   "source": [
    "### Common sense"
   ]
  },
  {
   "cell_type": "markdown",
   "metadata": {},
   "source": [
    "When you will be assessing whether your opinion extractor has been effective when analysing a given sentence. Before you look at what the dependency parser says, read the sentence carefully and determine for yourself the scope of the words. Consider the following sentence.\n",
    "\n",
    "\"This film has excellent characters and an intriguing and engaging plot.\"\n",
    "\n",
    "It should be obvious to you that here the plot is described as both \"intriguing\" and \"engaging\". However, \"excellent\" is only used to describe the cinematography.\n",
    "\n",
    "If the parser suggests a structure which implies that plot is also described by \"excellent\" (for example), something has gone wrong."
   ]
  },
  {
   "cell_type": "markdown",
   "metadata": {},
   "source": [
    "### Dependency tree visualisation tool"
   ]
  },
  {
   "cell_type": "markdown",
   "metadata": {},
   "source": [
    "On the teaching drive under <code style=\"background-color: #F5F5F5;\">Departments/Informatics/LanguageEngineering/</code>, there is a file called <code style=\"background-color: #F5F5F5;\">\"RunParserInLab4.bat\"</code>. Double-click this file in Lab4 and it will run an interactive dependency parser.\n",
    "\n",
    "It performs two tasks, only one of which is relevant to you: in the pane labelled \"Plain\" you can copy-paste any <code style=\"background-color: #F5F5F5;\">ParsedSentence</code> print-out (the token-per-line format), then press SHIFT+ENTER, and the dependency tree will be visualised.\n",
    "\n",
    "This may help you to understand the trees.\n",
    "\n",
    "You should probably avoid the text field at the bottom of the application. It uses a slightly different parser than the one in Sussex NLTK, so their answers will sometimes differ.\n",
    "\n",
    "If you would like to use the tool at home, you should instead use a copy of the <code style=\"background-color: #F5F5F5;\">InteractiveParser.jar</code> file from the same directory. Ensure that your home computer uses Java 7 at the terminal by default. Then at the command prompt type:\n",
    "\n",
    "<code style=\"background-color: #F5F5F5;\">java -Xmx2g -jar /path/to/InteractiveParser.jar</code>\n",
    "\n",
    "For reference, the following are links to the documents describing the [dependency relations](http://nlp.stanford.edu/downloads/dependencies_manual.pdf) and [parts-of-speech tags](http://www.ling.upenn.edu/courses/Fall_2003/ling001/penn_treebank_pos.html) we are using."
   ]
  },
  {
   "cell_type": "markdown",
   "metadata": {},
   "source": [
    "### Printing only documents relevant to the current task"
   ]
  },
  {
   "cell_type": "markdown",
   "metadata": {},
   "source": [
    "You will find that your output is dominated by examples of adjectival modification and adjectives linked via the copula. This means that when you add a new function (extensions 3-5) it will be difficult to determine the impact of that new functionality.\n",
    "\n",
    "One way to solve this problem, is to (temporarily) output only those features produced by the new functionality.\n",
    "\n",
    "For example, imagine you have just completed extensions 1 and 2. Next, you write code that adds the adverbial features (extension 3). When assessing how well your code is working, let your extractor only extract the \"new\" adverb features.\n",
    "\n",
    "There are 2 easy ways to achieve this:\n",
    "\n",
    "1. Comment out any extractor code that produces features that you're not currently interested in. Or\n",
    "2. Introduce a boolean variable, which you only set to <code style=\"background-color: #F5F5F5;\">True</code> when you have extracted the feature that you are interested in. Then always ouput an empty list if the variable is <code style=\"background-color: #F5F5F5;\">False</code>, otherwise output the full opinion list."
   ]
  },
  {
   "cell_type": "markdown",
   "metadata": {},
   "source": [
    "### Running the parser on your own example sentences (Beware, this can take ~40secs!)"
   ]
  },
  {
   "cell_type": "markdown",
   "metadata": {},
   "source": [
    "If you want to test an idea out and have the parser attempt to parse one of your own examples. Take a look at the code below."
   ]
  },
  {
   "cell_type": "code",
   "execution_count": null,
   "metadata": {
    "collapsed": false
   },
   "outputs": [],
   "source": [
    "from nltk.tokenize import word_tokenize\n",
    "from nltk import pos_tag\n",
    "from sussex_nltk.parse import dep_parse_sentences_arceager\n",
    "\n",
    "sentences = [\"This is the first example sentence\",\n",
    "             \"This is the second example sentence\",\n",
    "             \"This is the third example sentence\"]\n",
    "\n",
    "parsed_sents = dep_parse_sentences_arceager(pos_tag(word_tokenize(sentence)) for sentence in sentences)\n",
    "\n",
    "for parsed_sentence in parsed_sents:\n",
    "    print \"--- Sentence ---\"\n",
    "    print parsed_sentence"
   ]
  }
 ],
 "metadata": {},
 "nbformat": 4,
 "nbformat_minor": 0
}
